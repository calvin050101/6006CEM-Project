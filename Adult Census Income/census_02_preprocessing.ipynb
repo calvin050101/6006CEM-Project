{
 "cells": [
  {
   "cell_type": "code",
   "execution_count": 1,
   "id": "0f82c90c",
   "metadata": {},
   "outputs": [],
   "source": [
    "import pandas as pd\n",
    "import numpy as np\n",
    "import matplotlib.pyplot as plt\n",
    "import seaborn as sns"
   ]
  },
  {
   "cell_type": "code",
   "execution_count": 2,
   "id": "5e7571a9",
   "metadata": {},
   "outputs": [],
   "source": [
    "df = pd.read_csv('artifacts/adult_cleaned.csv')"
   ]
  },
  {
   "cell_type": "code",
   "execution_count": 3,
   "id": "3efcf1d6",
   "metadata": {},
   "outputs": [
    {
     "data": {
      "application/vnd.microsoft.datawrangler.viewer.v0+json": {
       "columns": [
        {
         "name": "index",
         "rawType": "int64",
         "type": "integer"
        },
        {
         "name": "age",
         "rawType": "int64",
         "type": "integer"
        },
        {
         "name": "workclass",
         "rawType": "object",
         "type": "string"
        },
        {
         "name": "education",
         "rawType": "object",
         "type": "string"
        },
        {
         "name": "education.num",
         "rawType": "int64",
         "type": "integer"
        },
        {
         "name": "marital.status",
         "rawType": "object",
         "type": "string"
        },
        {
         "name": "occupation",
         "rawType": "object",
         "type": "string"
        },
        {
         "name": "relationship",
         "rawType": "object",
         "type": "string"
        },
        {
         "name": "race",
         "rawType": "object",
         "type": "string"
        },
        {
         "name": "sex",
         "rawType": "object",
         "type": "string"
        },
        {
         "name": "capital.gain",
         "rawType": "int64",
         "type": "integer"
        },
        {
         "name": "capital.loss",
         "rawType": "int64",
         "type": "integer"
        },
        {
         "name": "hours.per.week",
         "rawType": "int64",
         "type": "integer"
        },
        {
         "name": "native.country",
         "rawType": "object",
         "type": "string"
        },
        {
         "name": "income",
         "rawType": "int64",
         "type": "integer"
        }
       ],
       "ref": "9bf2d92b-7270-4d6a-8ecb-0e11bc0a7843",
       "rows": [
        [
         "0",
         "38",
         "Self-emp-not-inc",
         "Prof-school",
         "15",
         "Never-married",
         "Prof-specialty",
         "Not-in-family",
         "White",
         "Male",
         "0",
         "2824",
         "45",
         "United-States",
         "1"
        ],
        [
         "1",
         "52",
         "Private",
         "Bachelors",
         "13",
         "Widowed",
         "Other-service",
         "Not-in-family",
         "White",
         "Female",
         "0",
         "2824",
         "20",
         "United-States",
         "1"
        ],
        [
         "2",
         "32",
         "Private",
         "Masters",
         "14",
         "Separated",
         "Exec-managerial",
         "Not-in-family",
         "White",
         "Male",
         "0",
         "2824",
         "55",
         "United-States",
         "1"
        ],
        [
         "3",
         "46",
         "Private",
         "Prof-school",
         "15",
         "Divorced",
         "Prof-specialty",
         "Not-in-family",
         "White",
         "Male",
         "0",
         "2824",
         "40",
         "United-States",
         "1"
        ],
        [
         "4",
         "45",
         "Private",
         "11th",
         "7",
         "Divorced",
         "Transport-moving",
         "Not-in-family",
         "White",
         "Male",
         "0",
         "2824",
         "76",
         "United-States",
         "1"
        ]
       ],
       "shape": {
        "columns": 14,
        "rows": 5
       }
      },
      "text/html": [
       "<div>\n",
       "<style scoped>\n",
       "    .dataframe tbody tr th:only-of-type {\n",
       "        vertical-align: middle;\n",
       "    }\n",
       "\n",
       "    .dataframe tbody tr th {\n",
       "        vertical-align: top;\n",
       "    }\n",
       "\n",
       "    .dataframe thead th {\n",
       "        text-align: right;\n",
       "    }\n",
       "</style>\n",
       "<table border=\"1\" class=\"dataframe\">\n",
       "  <thead>\n",
       "    <tr style=\"text-align: right;\">\n",
       "      <th></th>\n",
       "      <th>age</th>\n",
       "      <th>workclass</th>\n",
       "      <th>education</th>\n",
       "      <th>education.num</th>\n",
       "      <th>marital.status</th>\n",
       "      <th>occupation</th>\n",
       "      <th>relationship</th>\n",
       "      <th>race</th>\n",
       "      <th>sex</th>\n",
       "      <th>capital.gain</th>\n",
       "      <th>capital.loss</th>\n",
       "      <th>hours.per.week</th>\n",
       "      <th>native.country</th>\n",
       "      <th>income</th>\n",
       "    </tr>\n",
       "  </thead>\n",
       "  <tbody>\n",
       "    <tr>\n",
       "      <th>0</th>\n",
       "      <td>38</td>\n",
       "      <td>Self-emp-not-inc</td>\n",
       "      <td>Prof-school</td>\n",
       "      <td>15</td>\n",
       "      <td>Never-married</td>\n",
       "      <td>Prof-specialty</td>\n",
       "      <td>Not-in-family</td>\n",
       "      <td>White</td>\n",
       "      <td>Male</td>\n",
       "      <td>0</td>\n",
       "      <td>2824</td>\n",
       "      <td>45</td>\n",
       "      <td>United-States</td>\n",
       "      <td>1</td>\n",
       "    </tr>\n",
       "    <tr>\n",
       "      <th>1</th>\n",
       "      <td>52</td>\n",
       "      <td>Private</td>\n",
       "      <td>Bachelors</td>\n",
       "      <td>13</td>\n",
       "      <td>Widowed</td>\n",
       "      <td>Other-service</td>\n",
       "      <td>Not-in-family</td>\n",
       "      <td>White</td>\n",
       "      <td>Female</td>\n",
       "      <td>0</td>\n",
       "      <td>2824</td>\n",
       "      <td>20</td>\n",
       "      <td>United-States</td>\n",
       "      <td>1</td>\n",
       "    </tr>\n",
       "    <tr>\n",
       "      <th>2</th>\n",
       "      <td>32</td>\n",
       "      <td>Private</td>\n",
       "      <td>Masters</td>\n",
       "      <td>14</td>\n",
       "      <td>Separated</td>\n",
       "      <td>Exec-managerial</td>\n",
       "      <td>Not-in-family</td>\n",
       "      <td>White</td>\n",
       "      <td>Male</td>\n",
       "      <td>0</td>\n",
       "      <td>2824</td>\n",
       "      <td>55</td>\n",
       "      <td>United-States</td>\n",
       "      <td>1</td>\n",
       "    </tr>\n",
       "    <tr>\n",
       "      <th>3</th>\n",
       "      <td>46</td>\n",
       "      <td>Private</td>\n",
       "      <td>Prof-school</td>\n",
       "      <td>15</td>\n",
       "      <td>Divorced</td>\n",
       "      <td>Prof-specialty</td>\n",
       "      <td>Not-in-family</td>\n",
       "      <td>White</td>\n",
       "      <td>Male</td>\n",
       "      <td>0</td>\n",
       "      <td>2824</td>\n",
       "      <td>40</td>\n",
       "      <td>United-States</td>\n",
       "      <td>1</td>\n",
       "    </tr>\n",
       "    <tr>\n",
       "      <th>4</th>\n",
       "      <td>45</td>\n",
       "      <td>Private</td>\n",
       "      <td>11th</td>\n",
       "      <td>7</td>\n",
       "      <td>Divorced</td>\n",
       "      <td>Transport-moving</td>\n",
       "      <td>Not-in-family</td>\n",
       "      <td>White</td>\n",
       "      <td>Male</td>\n",
       "      <td>0</td>\n",
       "      <td>2824</td>\n",
       "      <td>76</td>\n",
       "      <td>United-States</td>\n",
       "      <td>1</td>\n",
       "    </tr>\n",
       "  </tbody>\n",
       "</table>\n",
       "</div>"
      ],
      "text/plain": [
       "   age         workclass    education  education.num marital.status  \\\n",
       "0   38  Self-emp-not-inc  Prof-school             15  Never-married   \n",
       "1   52           Private    Bachelors             13        Widowed   \n",
       "2   32           Private      Masters             14      Separated   \n",
       "3   46           Private  Prof-school             15       Divorced   \n",
       "4   45           Private         11th              7       Divorced   \n",
       "\n",
       "         occupation   relationship   race     sex  capital.gain  capital.loss  \\\n",
       "0    Prof-specialty  Not-in-family  White    Male             0          2824   \n",
       "1     Other-service  Not-in-family  White  Female             0          2824   \n",
       "2   Exec-managerial  Not-in-family  White    Male             0          2824   \n",
       "3    Prof-specialty  Not-in-family  White    Male             0          2824   \n",
       "4  Transport-moving  Not-in-family  White    Male             0          2824   \n",
       "\n",
       "   hours.per.week native.country  income  \n",
       "0              45  United-States       1  \n",
       "1              20  United-States       1  \n",
       "2              55  United-States       1  \n",
       "3              40  United-States       1  \n",
       "4              76  United-States       1  "
      ]
     },
     "execution_count": 3,
     "metadata": {},
     "output_type": "execute_result"
    }
   ],
   "source": [
    "df.head()"
   ]
  },
  {
   "cell_type": "markdown",
   "id": "aed0acdc",
   "metadata": {},
   "source": [
    "# Feature Engineering"
   ]
  },
  {
   "cell_type": "code",
   "execution_count": 4,
   "id": "9b43b496",
   "metadata": {},
   "outputs": [
    {
     "data": {
      "application/vnd.microsoft.datawrangler.viewer.v0+json": {
       "columns": [
        {
         "name": "index",
         "rawType": "object",
         "type": "string"
        },
        {
         "name": "0",
         "rawType": "object",
         "type": "unknown"
        }
       ],
       "ref": "ab1f6f69-9766-40f8-931f-52ebe5281908",
       "rows": [
        [
         "age",
         "int64"
        ],
        [
         "workclass",
         "object"
        ],
        [
         "education",
         "object"
        ],
        [
         "education.num",
         "int64"
        ],
        [
         "marital.status",
         "object"
        ],
        [
         "occupation",
         "object"
        ],
        [
         "relationship",
         "object"
        ],
        [
         "race",
         "object"
        ],
        [
         "sex",
         "object"
        ],
        [
         "capital.gain",
         "int64"
        ],
        [
         "capital.loss",
         "int64"
        ],
        [
         "hours.per.week",
         "int64"
        ],
        [
         "native.country",
         "object"
        ],
        [
         "income",
         "int64"
        ]
       ],
       "shape": {
        "columns": 1,
        "rows": 14
       }
      },
      "text/plain": [
       "age                int64\n",
       "workclass         object\n",
       "education         object\n",
       "education.num      int64\n",
       "marital.status    object\n",
       "occupation        object\n",
       "relationship      object\n",
       "race              object\n",
       "sex               object\n",
       "capital.gain       int64\n",
       "capital.loss       int64\n",
       "hours.per.week     int64\n",
       "native.country    object\n",
       "income             int64\n",
       "dtype: object"
      ]
     },
     "execution_count": 4,
     "metadata": {},
     "output_type": "execute_result"
    }
   ],
   "source": [
    "df.dtypes"
   ]
  },
  {
   "cell_type": "code",
   "execution_count": 5,
   "id": "2b2e89b2",
   "metadata": {},
   "outputs": [
    {
     "data": {
      "application/vnd.microsoft.datawrangler.viewer.v0+json": {
       "columns": [
        {
         "name": "index",
         "rawType": "object",
         "type": "string"
        },
        {
         "name": "net.capital",
         "rawType": "float64",
         "type": "float"
        }
       ],
       "ref": "e4ffaeee-636c-4588-bb45-fd785fbaec21",
       "rows": [
        [
         "count",
         "29978.0"
        ],
        [
         "mean",
         "510.9399893255054"
        ],
        [
         "std",
         "2587.9652919577147"
        ],
        [
         "min",
         "-2824.0"
        ],
        [
         "25%",
         "0.0"
        ],
        [
         "50%",
         "0.0"
        ],
        [
         "75%",
         "0.0"
        ],
        [
         "max",
         "27828.0"
        ]
       ],
       "shape": {
        "columns": 1,
        "rows": 8
       }
      },
      "text/plain": [
       "count    29978.000000\n",
       "mean       510.939989\n",
       "std       2587.965292\n",
       "min      -2824.000000\n",
       "25%          0.000000\n",
       "50%          0.000000\n",
       "75%          0.000000\n",
       "max      27828.000000\n",
       "Name: net.capital, dtype: float64"
      ]
     },
     "execution_count": 5,
     "metadata": {},
     "output_type": "execute_result"
    }
   ],
   "source": [
    "df[\"net.capital\"] = df[\"capital.gain\"] - df[\"capital.loss\"]\n",
    "df[\"net.capital\"].describe()"
   ]
  },
  {
   "cell_type": "code",
   "execution_count": 6,
   "id": "6b10383b",
   "metadata": {},
   "outputs": [
    {
     "data": {
      "image/png": "[encoded data removed]",
      "text/plain": [
       "<Figure size 640x480 with 1 Axes>"
      ]
     },
     "metadata": {},
     "output_type": "display_data"
    }
   ],
   "source": [
    "sns.histplot(df[\"net.capital\"], kde=True, bins=30)\n",
    "plt.show()"
   ]
  },
  {
   "cell_type": "code",
   "execution_count": 7,
   "id": "f26a0073",
   "metadata": {},
   "outputs": [
    {
     "data": {
      "image/png": "[encoded data removed]",
      "text/plain": [
       "<Figure size 640x480 with 1 Axes>"
      ]
     },
     "metadata": {},
     "output_type": "display_data"
    }
   ],
   "source": [
    "from scipy import stats\n",
    "\n",
    "stats.probplot(df[\"net.capital\"], dist=\"norm\", plot=plt)\n",
    "plt.title(f\"QQ Plot - net.capital\")\n",
    "plt.tight_layout()\n",
    "plt.show()"
   ]
  },
  {
   "cell_type": "code",
   "execution_count": 8,
   "id": "47653424",
   "metadata": {},
   "outputs": [
    {
     "data": {
      "application/vnd.microsoft.datawrangler.viewer.v0+json": {
       "columns": [
        {
         "name": "index",
         "rawType": "object",
         "type": "string"
        },
        {
         "name": "capital.gain.log",
         "rawType": "float64",
         "type": "float"
        },
        {
         "name": "capital.loss.log",
         "rawType": "float64",
         "type": "float"
        }
       ],
       "ref": "3666a5ad-2a04-479d-b44c-ae1413510121",
       "rows": [
        [
         "count",
         "29978.0",
         "29978.0"
        ],
        [
         "mean",
         "0.6896188111486173",
         "0.35521100295447483"
        ],
        [
         "std",
         "2.3556137343672",
         "1.5944875760935413"
        ],
        [
         "min",
         "0.0",
         "0.0"
        ],
        [
         "25%",
         "0.0",
         "0.0"
        ],
        [
         "50%",
         "0.0",
         "0.0"
        ],
        [
         "75%",
         "0.0",
         "0.0"
        ],
        [
         "max",
         "10.233833921427351",
         "7.946263643580541"
        ]
       ],
       "shape": {
        "columns": 2,
        "rows": 8
       }
      },
      "text/html": [
       "<div>\n",
       "<style scoped>\n",
       "    .dataframe tbody tr th:only-of-type {\n",
       "        vertical-align: middle;\n",
       "    }\n",
       "\n",
       "    .dataframe tbody tr th {\n",
       "        vertical-align: top;\n",
       "    }\n",
       "\n",
       "    .dataframe thead th {\n",
       "        text-align: right;\n",
       "    }\n",
       "</style>\n",
       "<table border=\"1\" class=\"dataframe\">\n",
       "  <thead>\n",
       "    <tr style=\"text-align: right;\">\n",
       "      <th></th>\n",
       "      <th>capital.gain.log</th>\n",
       "      <th>capital.loss.log</th>\n",
       "    </tr>\n",
       "  </thead>\n",
       "  <tbody>\n",
       "    <tr>\n",
       "      <th>count</th>\n",
       "      <td>29978.000000</td>\n",
       "      <td>29978.000000</td>\n",
       "    </tr>\n",
       "    <tr>\n",
       "      <th>mean</th>\n",
       "      <td>0.689619</td>\n",
       "      <td>0.355211</td>\n",
       "    </tr>\n",
       "    <tr>\n",
       "      <th>std</th>\n",
       "      <td>2.355614</td>\n",
       "      <td>1.594488</td>\n",
       "    </tr>\n",
       "    <tr>\n",
       "      <th>min</th>\n",
       "      <td>0.000000</td>\n",
       "      <td>0.000000</td>\n",
       "    </tr>\n",
       "    <tr>\n",
       "      <th>25%</th>\n",
       "      <td>0.000000</td>\n",
       "      <td>0.000000</td>\n",
       "    </tr>\n",
       "    <tr>\n",
       "      <th>50%</th>\n",
       "      <td>0.000000</td>\n",
       "      <td>0.000000</td>\n",
       "    </tr>\n",
       "    <tr>\n",
       "      <th>75%</th>\n",
       "      <td>0.000000</td>\n",
       "      <td>0.000000</td>\n",
       "    </tr>\n",
       "    <tr>\n",
       "      <th>max</th>\n",
       "      <td>10.233834</td>\n",
       "      <td>7.946264</td>\n",
       "    </tr>\n",
       "  </tbody>\n",
       "</table>\n",
       "</div>"
      ],
      "text/plain": [
       "       capital.gain.log  capital.loss.log\n",
       "count      29978.000000      29978.000000\n",
       "mean           0.689619          0.355211\n",
       "std            2.355614          1.594488\n",
       "min            0.000000          0.000000\n",
       "25%            0.000000          0.000000\n",
       "50%            0.000000          0.000000\n",
       "75%            0.000000          0.000000\n",
       "max           10.233834          7.946264"
      ]
     },
     "execution_count": 8,
     "metadata": {},
     "output_type": "execute_result"
    }
   ],
   "source": [
    "df[\"capital.gain.log\"] = np.log1p(df[\"capital.gain\"])\n",
    "df[\"capital.loss.log\"] = np.log1p(df[\"capital.loss\"])\n",
    "df[[\"capital.gain.log\", \"capital.loss.log\"]].describe()"
   ]
  },
  {
   "cell_type": "code",
   "execution_count": 9,
   "id": "8805a301",
   "metadata": {},
   "outputs": [
    {
     "data": {
      "image/png": "[encoded data removed]",
      "text/plain": [
       "<Figure size 1200x400 with 2 Axes>"
      ]
     },
     "metadata": {},
     "output_type": "display_data"
    }
   ],
   "source": [
    "plt.figure(figsize=(12, 4))\n",
    "\n",
    "plt.subplot(1, 2, 1)\n",
    "sns.histplot(df[\"capital.gain.log\"], kde=True, bins=30)\n",
    "\n",
    "plt.subplot(1, 2, 2)\n",
    "sns.histplot(df[\"capital.loss.log\"], kde=True, bins=30)\n",
    "plt.show()"
   ]
  },
  {
   "cell_type": "code",
   "execution_count": 10,
   "id": "2a3a5e94",
   "metadata": {},
   "outputs": [
    {
     "data": {
      "image/png": "[encoded data removed]",
      "text/plain": [
       "<Figure size 1200x400 with 2 Axes>"
      ]
     },
     "metadata": {},
     "output_type": "display_data"
    }
   ],
   "source": [
    "plt.figure(figsize=(12, 4))\n",
    "\n",
    "plt.subplot(1, 2, 1)\n",
    "stats.probplot(df[\"capital.gain.log\"], dist=\"norm\", plot=plt)\n",
    "plt.title(f\"QQ Plot - capital.gain.log\")\n",
    "plt.tight_layout()\n",
    "\n",
    "plt.subplot(1, 2, 2)\n",
    "stats.probplot(df[\"capital.loss.log\"], dist=\"norm\", plot=plt)\n",
    "plt.title(f\"QQ Plot - capital.loss.log\")\n",
    "plt.tight_layout()\n",
    "\n",
    "plt.show()"
   ]
  },
  {
   "cell_type": "code",
   "execution_count": 11,
   "id": "5a973167",
   "metadata": {},
   "outputs": [],
   "source": [
    "# Create age_group feature\n",
    "df['age_group'] = pd.cut(\n",
    "    df['age'], \n",
    "    bins=[0, 25, 50, 75, 100], \n",
    "    labels=['Young', 'Adult', 'Senior', 'Very Senior'], \n",
    "    right=False\n",
    ")\n",
    "\n",
    "# Create hours_per_week_group feature\n",
    "df['hours_per_week_group'] = pd.cut(\n",
    "    df['hours.per.week'], \n",
    "    bins=[0, 30, 45, 60, 1000], \n",
    "    labels=['Part-time', 'Full-time', 'Overtime', 'Very Overtime'], \n",
    "    right=False\n",
    ")"
   ]
  },
  {
   "cell_type": "code",
   "execution_count": 12,
   "id": "27a2ff3c",
   "metadata": {},
   "outputs": [
    {
     "data": {
      "application/vnd.microsoft.datawrangler.viewer.v0+json": {
       "columns": [
        {
         "name": "index",
         "rawType": "int64",
         "type": "integer"
        },
        {
         "name": "age",
         "rawType": "int64",
         "type": "integer"
        },
        {
         "name": "age_group",
         "rawType": "category",
         "type": "unknown"
        },
        {
         "name": "hours.per.week",
         "rawType": "int64",
         "type": "integer"
        },
        {
         "name": "hours_per_week_group",
         "rawType": "category",
         "type": "unknown"
        }
       ],
       "ref": "45414298-a89a-4117-809d-9e97eb191bc5",
       "rows": [
        [
         "0",
         "38",
         "Adult",
         "45",
         "Overtime"
        ],
        [
         "1",
         "52",
         "Senior",
         "20",
         "Part-time"
        ],
        [
         "2",
         "32",
         "Adult",
         "55",
         "Overtime"
        ],
        [
         "3",
         "46",
         "Adult",
         "40",
         "Full-time"
        ],
        [
         "4",
         "45",
         "Adult",
         "76",
         "Very Overtime"
        ]
       ],
       "shape": {
        "columns": 4,
        "rows": 5
       }
      },
      "text/html": [
       "<div>\n",
       "<style scoped>\n",
       "    .dataframe tbody tr th:only-of-type {\n",
       "        vertical-align: middle;\n",
       "    }\n",
       "\n",
       "    .dataframe tbody tr th {\n",
       "        vertical-align: top;\n",
       "    }\n",
       "\n",
       "    .dataframe thead th {\n",
       "        text-align: right;\n",
       "    }\n",
       "</style>\n",
       "<table border=\"1\" class=\"dataframe\">\n",
       "  <thead>\n",
       "    <tr style=\"text-align: right;\">\n",
       "      <th></th>\n",
       "      <th>age</th>\n",
       "      <th>age_group</th>\n",
       "      <th>hours.per.week</th>\n",
       "      <th>hours_per_week_group</th>\n",
       "    </tr>\n",
       "  </thead>\n",
       "  <tbody>\n",
       "    <tr>\n",
       "      <th>0</th>\n",
       "      <td>38</td>\n",
       "      <td>Adult</td>\n",
       "      <td>45</td>\n",
       "      <td>Overtime</td>\n",
       "    </tr>\n",
       "    <tr>\n",
       "      <th>1</th>\n",
       "      <td>52</td>\n",
       "      <td>Senior</td>\n",
       "      <td>20</td>\n",
       "      <td>Part-time</td>\n",
       "    </tr>\n",
       "    <tr>\n",
       "      <th>2</th>\n",
       "      <td>32</td>\n",
       "      <td>Adult</td>\n",
       "      <td>55</td>\n",
       "      <td>Overtime</td>\n",
       "    </tr>\n",
       "    <tr>\n",
       "      <th>3</th>\n",
       "      <td>46</td>\n",
       "      <td>Adult</td>\n",
       "      <td>40</td>\n",
       "      <td>Full-time</td>\n",
       "    </tr>\n",
       "    <tr>\n",
       "      <th>4</th>\n",
       "      <td>45</td>\n",
       "      <td>Adult</td>\n",
       "      <td>76</td>\n",
       "      <td>Very Overtime</td>\n",
       "    </tr>\n",
       "  </tbody>\n",
       "</table>\n",
       "</div>"
      ],
      "text/plain": [
       "   age age_group  hours.per.week hours_per_week_group\n",
       "0   38     Adult              45             Overtime\n",
       "1   52    Senior              20            Part-time\n",
       "2   32     Adult              55             Overtime\n",
       "3   46     Adult              40            Full-time\n",
       "4   45     Adult              76        Very Overtime"
      ]
     },
     "execution_count": 12,
     "metadata": {},
     "output_type": "execute_result"
    }
   ],
   "source": [
    "df[['age', 'age_group', 'hours.per.week', 'hours_per_week_group']].head()"
   ]
  },
  {
   "cell_type": "code",
   "execution_count": 13,
   "id": "54cb1243",
   "metadata": {},
   "outputs": [
    {
     "data": {
      "application/vnd.microsoft.datawrangler.viewer.v0+json": {
       "columns": [
        {
         "name": "workclass",
         "rawType": "object",
         "type": "string"
        },
        {
         "name": "count",
         "rawType": "int64",
         "type": "integer"
        }
       ],
       "ref": "08a723b6-e7df-4c49-ae00-b5e20d15226a",
       "rows": [
        [
         "Private",
         "22177"
        ],
        [
         "Entrepreneur",
         "3507"
        ],
        [
         "Local-gov",
         "2062"
        ],
        [
         "State-gov",
         "1277"
        ],
        [
         "Federal-gov",
         "941"
        ],
        [
         "Without-pay",
         "14"
        ]
       ],
       "shape": {
        "columns": 1,
        "rows": 6
       }
      },
      "text/plain": [
       "workclass\n",
       "Private         22177\n",
       "Entrepreneur     3507\n",
       "Local-gov        2062\n",
       "State-gov        1277\n",
       "Federal-gov       941\n",
       "Without-pay        14\n",
       "Name: count, dtype: int64"
      ]
     },
     "execution_count": 13,
     "metadata": {},
     "output_type": "execute_result"
    }
   ],
   "source": [
    "df['workclass'] = df['workclass'].replace(['Self-emp-not-inc', 'Self-emp-inc'], 'Entrepreneur')\n",
    "df['workclass'].value_counts()"
   ]
  },
  {
   "cell_type": "code",
   "execution_count": 14,
   "id": "76e3a0f4",
   "metadata": {},
   "outputs": [
    {
     "data": {
      "application/vnd.microsoft.datawrangler.viewer.v0+json": {
       "columns": [
        {
         "name": "is_single_parent",
         "rawType": "int32",
         "type": "integer"
        },
        {
         "name": "count",
         "rawType": "int64",
         "type": "integer"
        }
       ],
       "ref": "e4a910ae-2ecc-4b68-ba07-3756ed55640c",
       "rows": [
        [
         "0",
         "24905"
        ],
        [
         "1",
         "5073"
        ]
       ],
       "shape": {
        "columns": 1,
        "rows": 2
       }
      },
      "text/plain": [
       "is_single_parent\n",
       "0    24905\n",
       "1     5073\n",
       "Name: count, dtype: int64"
      ]
     },
     "execution_count": 14,
     "metadata": {},
     "output_type": "execute_result"
    }
   ],
   "source": [
    "df['relationship'] = df['relationship'].replace(['Husband', 'Wife'], 'Married')\n",
    "\n",
    "df[\"is_single_parent\"] = (\n",
    "    (df[\"relationship\"].isin([\"Own-child\", \"Other-relative\"])) &\n",
    "    (~df[\"marital.status\"].str.contains(\"Married\"))\n",
    ").astype(int)\n",
    "\n",
    "df[\"is_single_parent\"].value_counts()"
   ]
  },
  {
   "cell_type": "code",
   "execution_count": 15,
   "id": "4ee5aa5b",
   "metadata": {},
   "outputs": [
    {
     "data": {
      "application/vnd.microsoft.datawrangler.viewer.v0+json": {
       "columns": [
        {
         "name": "native.country",
         "rawType": "object",
         "type": "string"
        },
        {
         "name": "count",
         "rawType": "int64",
         "type": "integer"
        }
       ],
       "ref": "2955b431-3371-450a-8f99-a1749a977754",
       "rows": [
        [
         "United-States",
         "27336"
        ],
        [
         "Non-US",
         "2642"
        ]
       ],
       "shape": {
        "columns": 1,
        "rows": 2
       }
      },
      "text/plain": [
       "native.country\n",
       "United-States    27336\n",
       "Non-US            2642\n",
       "Name: count, dtype: int64"
      ]
     },
     "execution_count": 15,
     "metadata": {},
     "output_type": "execute_result"
    }
   ],
   "source": [
    "df['native.country'].value_counts()"
   ]
  },
  {
   "cell_type": "code",
   "execution_count": 16,
   "id": "1d9c6e3e",
   "metadata": {},
   "outputs": [
    {
     "data": {
      "application/vnd.microsoft.datawrangler.viewer.v0+json": {
       "columns": [
        {
         "name": "is_US",
         "rawType": "int32",
         "type": "integer"
        },
        {
         "name": "count",
         "rawType": "int64",
         "type": "integer"
        }
       ],
       "ref": "a25904a1-b1b3-42bf-b504-44eede289759",
       "rows": [
        [
         "1",
         "27336"
        ],
        [
         "0",
         "2642"
        ]
       ],
       "shape": {
        "columns": 1,
        "rows": 2
       }
      },
      "text/plain": [
       "is_US\n",
       "1    27336\n",
       "0     2642\n",
       "Name: count, dtype: int64"
      ]
     },
     "execution_count": 16,
     "metadata": {},
     "output_type": "execute_result"
    }
   ],
   "source": [
    "df['is_US'] = (df['native.country'] == 'United-States').astype(int)\n",
    "df['is_US'].value_counts()"
   ]
  },
  {
   "cell_type": "code",
   "execution_count": 17,
   "id": "70e259d3",
   "metadata": {},
   "outputs": [
    {
     "data": {
      "application/vnd.microsoft.datawrangler.viewer.v0+json": {
       "columns": [
        {
         "name": "sex",
         "rawType": "int32",
         "type": "integer"
        },
        {
         "name": "count",
         "rawType": "int64",
         "type": "integer"
        }
       ],
       "ref": "45a3a0fa-1f29-464f-ac7f-8fb5960de194",
       "rows": [
        [
         "1",
         "20233"
        ],
        [
         "0",
         "9745"
        ]
       ],
       "shape": {
        "columns": 1,
        "rows": 2
       }
      },
      "text/plain": [
       "sex\n",
       "1    20233\n",
       "0     9745\n",
       "Name: count, dtype: int64"
      ]
     },
     "execution_count": 17,
     "metadata": {},
     "output_type": "execute_result"
    }
   ],
   "source": [
    "df['sex'] = (df['sex'] == 'Male').astype(int)\n",
    "df['sex'].value_counts()"
   ]
  },
  {
   "cell_type": "code",
   "execution_count": 18,
   "id": "1e33bae0",
   "metadata": {},
   "outputs": [],
   "source": [
    "X = df.drop(columns=\"income\")\n",
    "y = df[\"income\"]"
   ]
  },
  {
   "cell_type": "code",
   "execution_count": 19,
   "id": "a539fa21",
   "metadata": {},
   "outputs": [
    {
     "data": {
      "text/plain": [
       "Index(['age', 'workclass', 'education', 'education.num', 'marital.status',\n",
       "       'occupation', 'relationship', 'race', 'sex', 'capital.gain',\n",
       "       'capital.loss', 'hours.per.week', 'native.country', 'net.capital',\n",
       "       'capital.gain.log', 'capital.loss.log', 'age_group',\n",
       "       'hours_per_week_group', 'is_single_parent', 'is_US'],\n",
       "      dtype='object')"
      ]
     },
     "execution_count": 19,
     "metadata": {},
     "output_type": "execute_result"
    }
   ],
   "source": [
    "X.columns"
   ]
  },
  {
   "cell_type": "markdown",
   "id": "536c50f8",
   "metadata": {},
   "source": [
    "Remove maritial status because it depends on relationship."
   ]
  },
  {
   "cell_type": "code",
   "execution_count": 20,
   "id": "53bbffb6",
   "metadata": {},
   "outputs": [
    {
     "data": {
      "application/vnd.microsoft.datawrangler.viewer.v0+json": {
       "columns": [
        {
         "name": "index",
         "rawType": "object",
         "type": "string"
        },
        {
         "name": "0",
         "rawType": "object",
         "type": "unknown"
        }
       ],
       "ref": "cb8a43a0-8364-4ab5-ba45-aa46b51508ac",
       "rows": [
        [
         "age",
         "int64"
        ],
        [
         "workclass",
         "object"
        ],
        [
         "education",
         "object"
        ],
        [
         "education.num",
         "int64"
        ],
        [
         "marital.status",
         "object"
        ],
        [
         "occupation",
         "object"
        ],
        [
         "relationship",
         "object"
        ],
        [
         "race",
         "object"
        ],
        [
         "sex",
         "int32"
        ],
        [
         "capital.gain",
         "int64"
        ],
        [
         "capital.loss",
         "int64"
        ],
        [
         "hours.per.week",
         "int64"
        ],
        [
         "native.country",
         "object"
        ],
        [
         "income",
         "int64"
        ],
        [
         "net.capital",
         "int64"
        ],
        [
         "capital.gain.log",
         "float64"
        ],
        [
         "capital.loss.log",
         "float64"
        ],
        [
         "age_group",
         "category"
        ],
        [
         "hours_per_week_group",
         "category"
        ],
        [
         "is_single_parent",
         "int32"
        ],
        [
         "is_US",
         "int32"
        ]
       ],
       "shape": {
        "columns": 1,
        "rows": 21
       }
      },
      "text/plain": [
       "age                        int64\n",
       "workclass                 object\n",
       "education                 object\n",
       "education.num              int64\n",
       "marital.status            object\n",
       "occupation                object\n",
       "relationship              object\n",
       "race                      object\n",
       "sex                        int32\n",
       "capital.gain               int64\n",
       "capital.loss               int64\n",
       "hours.per.week             int64\n",
       "native.country            object\n",
       "income                     int64\n",
       "net.capital                int64\n",
       "capital.gain.log         float64\n",
       "capital.loss.log         float64\n",
       "age_group               category\n",
       "hours_per_week_group    category\n",
       "is_single_parent           int32\n",
       "is_US                      int32\n",
       "dtype: object"
      ]
     },
     "execution_count": 20,
     "metadata": {},
     "output_type": "execute_result"
    }
   ],
   "source": [
    "df.dtypes"
   ]
  },
  {
   "cell_type": "code",
   "execution_count": 21,
   "id": "fc9b6ffc",
   "metadata": {},
   "outputs": [],
   "source": [
    "from sklearn.preprocessing import StandardScaler, MinMaxScaler, OneHotEncoder\n",
    "from sklearn.compose import ColumnTransformer\n",
    "\n",
    "standard_features = ['age']\n",
    "minmax_features = ['net.capital', 'capital.gain.log', 'capital.loss.log', \n",
    "                   'hours.per.week', 'education.num']\n",
    "binary_features = [\"sex\", \"is_single_parent\", \"is_US\"]\n",
    "categorical_features = [\n",
    "    \"workclass\", \"occupation\", \"relationship\",\n",
    "    \"race\", \"age_group\", \"hours_per_week_group\"\n",
    "]\n",
    "\n",
    "preprocessor = ColumnTransformer(\n",
    "    transformers=[\n",
    "        (\"std\", StandardScaler(), standard_features),\n",
    "        (\"minmax\", MinMaxScaler(), minmax_features),\n",
    "        (\"bin\", \"passthrough\", binary_features),\n",
    "        (\"cat\", OneHotEncoder(handle_unknown=\"ignore\"), categorical_features)\n",
    "    ],\n",
    "    remainder=\"drop\"\n",
    ")"
   ]
  },
  {
   "cell_type": "markdown",
   "id": "6b5aa54f",
   "metadata": {},
   "source": [
    "# Splitting Dataset"
   ]
  },
  {
   "cell_type": "code",
   "execution_count": 22,
   "id": "bae4555a",
   "metadata": {},
   "outputs": [],
   "source": [
    "from sklearn.model_selection import train_test_split\n",
    "\n",
    "X_train, X_test, y_train, y_test = train_test_split(X, y, stratify=y, \n",
    "                                                    test_size=0.2, random_state=42)"
   ]
  },
  {
   "cell_type": "code",
   "execution_count": 23,
   "id": "3d052601",
   "metadata": {},
   "outputs": [],
   "source": [
    "X_train_transformed = preprocessor.fit_transform(X_train)\n",
    "X_test_transformed = preprocessor.transform(X_test)"
   ]
  },
  {
   "cell_type": "code",
   "execution_count": 24,
   "id": "387a965b",
   "metadata": {},
   "outputs": [
    {
     "data": {
      "text/plain": [
       "array(['std__age', 'minmax__net.capital', 'minmax__capital.gain.log',\n",
       "       'minmax__capital.loss.log', 'minmax__hours.per.week',\n",
       "       'minmax__education.num', 'bin__sex', 'bin__is_single_parent',\n",
       "       'bin__is_US', 'cat__workclass_Entrepreneur',\n",
       "       'cat__workclass_Federal-gov', 'cat__workclass_Local-gov',\n",
       "       'cat__workclass_Private', 'cat__workclass_State-gov',\n",
       "       'cat__workclass_Without-pay', 'cat__occupation_Adm-clerical',\n",
       "       'cat__occupation_Armed-Forces', 'cat__occupation_Craft-repair',\n",
       "       'cat__occupation_Exec-managerial',\n",
       "       'cat__occupation_Farming-fishing',\n",
       "       'cat__occupation_Handlers-cleaners',\n",
       "       'cat__occupation_Machine-op-inspct',\n",
       "       'cat__occupation_Other-service', 'cat__occupation_Priv-house-serv',\n",
       "       'cat__occupation_Prof-specialty',\n",
       "       'cat__occupation_Protective-serv', 'cat__occupation_Sales',\n",
       "       'cat__occupation_Tech-support', 'cat__occupation_Transport-moving',\n",
       "       'cat__relationship_Married', 'cat__relationship_Not-in-family',\n",
       "       'cat__relationship_Other-relative', 'cat__relationship_Own-child',\n",
       "       'cat__relationship_Unmarried', 'cat__race_Amer-Indian-Eskimo',\n",
       "       'cat__race_Asian-Pac-Islander', 'cat__race_Black',\n",
       "       'cat__race_Other', 'cat__race_White', 'cat__age_group_Adult',\n",
       "       'cat__age_group_Senior', 'cat__age_group_Very Senior',\n",
       "       'cat__age_group_Young', 'cat__hours_per_week_group_Full-time',\n",
       "       'cat__hours_per_week_group_Overtime',\n",
       "       'cat__hours_per_week_group_Part-time',\n",
       "       'cat__hours_per_week_group_Very Overtime'], dtype=object)"
      ]
     },
     "execution_count": 24,
     "metadata": {},
     "output_type": "execute_result"
    }
   ],
   "source": [
    "X_transformed_columns = preprocessor.get_feature_names_out()\n",
    "X_transformed_columns"
   ]
  },
  {
   "cell_type": "code",
   "execution_count": 25,
   "id": "8836a126",
   "metadata": {},
   "outputs": [
    {
     "name": "stdout",
     "output_type": "stream",
     "text": [
      "(23982, 47) (5996, 47)\n"
     ]
    }
   ],
   "source": [
    "print(X_train_transformed.shape, X_test_transformed.shape)"
   ]
  },
  {
   "cell_type": "code",
   "execution_count": 26,
   "id": "a03d9f5a",
   "metadata": {},
   "outputs": [],
   "source": [
    "X_train = pd.DataFrame(\n",
    "    X_train_transformed, \n",
    "    columns=X_transformed_columns\n",
    ")\n",
    "\n",
    "X_test = pd.DataFrame(\n",
    "    X_test_transformed, \n",
    "    columns=X_transformed_columns\n",
    ")"
   ]
  },
  {
   "cell_type": "code",
   "execution_count": 27,
   "id": "c1e97e2e",
   "metadata": {},
   "outputs": [
    {
     "data": {
      "application/vnd.microsoft.datawrangler.viewer.v0+json": {
       "columns": [
        {
         "name": "index",
         "rawType": "int64",
         "type": "integer"
        },
        {
         "name": "std__age",
         "rawType": "float64",
         "type": "float"
        },
        {
         "name": "minmax__net.capital",
         "rawType": "float64",
         "type": "float"
        },
        {
         "name": "minmax__capital.gain.log",
         "rawType": "float64",
         "type": "float"
        },
        {
         "name": "minmax__capital.loss.log",
         "rawType": "float64",
         "type": "float"
        },
        {
         "name": "minmax__hours.per.week",
         "rawType": "float64",
         "type": "float"
        },
        {
         "name": "minmax__education.num",
         "rawType": "float64",
         "type": "float"
        },
        {
         "name": "bin__sex",
         "rawType": "float64",
         "type": "float"
        },
        {
         "name": "bin__is_single_parent",
         "rawType": "float64",
         "type": "float"
        },
        {
         "name": "bin__is_US",
         "rawType": "float64",
         "type": "float"
        },
        {
         "name": "cat__workclass_Entrepreneur",
         "rawType": "float64",
         "type": "float"
        },
        {
         "name": "cat__workclass_Federal-gov",
         "rawType": "float64",
         "type": "float"
        },
        {
         "name": "cat__workclass_Local-gov",
         "rawType": "float64",
         "type": "float"
        },
        {
         "name": "cat__workclass_Private",
         "rawType": "float64",
         "type": "float"
        },
        {
         "name": "cat__workclass_State-gov",
         "rawType": "float64",
         "type": "float"
        },
        {
         "name": "cat__workclass_Without-pay",
         "rawType": "float64",
         "type": "float"
        },
        {
         "name": "cat__occupation_Adm-clerical",
         "rawType": "float64",
         "type": "float"
        },
        {
         "name": "cat__occupation_Armed-Forces",
         "rawType": "float64",
         "type": "float"
        },
        {
         "name": "cat__occupation_Craft-repair",
         "rawType": "float64",
         "type": "float"
        },
        {
         "name": "cat__occupation_Exec-managerial",
         "rawType": "float64",
         "type": "float"
        },
        {
         "name": "cat__occupation_Farming-fishing",
         "rawType": "float64",
         "type": "float"
        },
        {
         "name": "cat__occupation_Handlers-cleaners",
         "rawType": "float64",
         "type": "float"
        },
        {
         "name": "cat__occupation_Machine-op-inspct",
         "rawType": "float64",
         "type": "float"
        },
        {
         "name": "cat__occupation_Other-service",
         "rawType": "float64",
         "type": "float"
        },
        {
         "name": "cat__occupation_Priv-house-serv",
         "rawType": "float64",
         "type": "float"
        },
        {
         "name": "cat__occupation_Prof-specialty",
         "rawType": "float64",
         "type": "float"
        },
        {
         "name": "cat__occupation_Protective-serv",
         "rawType": "float64",
         "type": "float"
        },
        {
         "name": "cat__occupation_Sales",
         "rawType": "float64",
         "type": "float"
        },
        {
         "name": "cat__occupation_Tech-support",
         "rawType": "float64",
         "type": "float"
        },
        {
         "name": "cat__occupation_Transport-moving",
         "rawType": "float64",
         "type": "float"
        },
        {
         "name": "cat__relationship_Married",
         "rawType": "float64",
         "type": "float"
        },
        {
         "name": "cat__relationship_Not-in-family",
         "rawType": "float64",
         "type": "float"
        },
        {
         "name": "cat__relationship_Other-relative",
         "rawType": "float64",
         "type": "float"
        },
        {
         "name": "cat__relationship_Own-child",
         "rawType": "float64",
         "type": "float"
        },
        {
         "name": "cat__relationship_Unmarried",
         "rawType": "float64",
         "type": "float"
        },
        {
         "name": "cat__race_Amer-Indian-Eskimo",
         "rawType": "float64",
         "type": "float"
        },
        {
         "name": "cat__race_Asian-Pac-Islander",
         "rawType": "float64",
         "type": "float"
        },
        {
         "name": "cat__race_Black",
         "rawType": "float64",
         "type": "float"
        },
        {
         "name": "cat__race_Other",
         "rawType": "float64",
         "type": "float"
        },
        {
         "name": "cat__race_White",
         "rawType": "float64",
         "type": "float"
        },
        {
         "name": "cat__age_group_Adult",
         "rawType": "float64",
         "type": "float"
        },
        {
         "name": "cat__age_group_Senior",
         "rawType": "float64",
         "type": "float"
        },
        {
         "name": "cat__age_group_Very Senior",
         "rawType": "float64",
         "type": "float"
        },
        {
         "name": "cat__age_group_Young",
         "rawType": "float64",
         "type": "float"
        },
        {
         "name": "cat__hours_per_week_group_Full-time",
         "rawType": "float64",
         "type": "float"
        },
        {
         "name": "cat__hours_per_week_group_Overtime",
         "rawType": "float64",
         "type": "float"
        },
        {
         "name": "cat__hours_per_week_group_Part-time",
         "rawType": "float64",
         "type": "float"
        },
        {
         "name": "cat__hours_per_week_group_Very Overtime",
         "rawType": "float64",
         "type": "float"
        }
       ],
       "ref": "c1b44486-3085-44bf-b66e-a3b22713501b",
       "rows": [
        [
         "0",
         "0.6546394154666272",
         "0.03536473965809735",
         "0.0",
         "0.9390847415183116",
         "0.39795918367346933",
         "0.8",
         "1.0",
         "0.0",
         "1.0",
         "0.0",
         "1.0",
         "0.0",
         "0.0",
         "0.0",
         "0.0",
         "0.0",
         "0.0",
         "1.0",
         "0.0",
         "0.0",
         "0.0",
         "0.0",
         "0.0",
         "0.0",
         "0.0",
         "0.0",
         "0.0",
         "0.0",
         "0.0",
         "1.0",
         "0.0",
         "0.0",
         "0.0",
         "0.0",
         "0.0",
         "0.0",
         "0.0",
         "0.0",
         "1.0",
         "1.0",
         "0.0",
         "0.0",
         "0.0",
         "1.0",
         "0.0",
         "0.0",
         "0.0"
        ],
        [
         "1",
         "0.04525827627172566",
         "0.09213101918308755",
         "0.0",
         "0.0",
         "0.5",
         "0.8666666666666667",
         "1.0",
         "0.0",
         "1.0",
         "0.0",
         "0.0",
         "0.0",
         "1.0",
         "0.0",
         "0.0",
         "0.0",
         "0.0",
         "0.0",
         "0.0",
         "0.0",
         "0.0",
         "0.0",
         "0.0",
         "0.0",
         "1.0",
         "0.0",
         "0.0",
         "0.0",
         "0.0",
         "1.0",
         "0.0",
         "0.0",
         "0.0",
         "0.0",
         "0.0",
         "0.0",
         "0.0",
         "0.0",
         "1.0",
         "1.0",
         "0.0",
         "0.0",
         "0.0",
         "0.0",
         "1.0",
         "0.0",
         "0.0"
        ],
        [
         "2",
         "-0.48795022052381315",
         "0.09213101918308755",
         "0.0",
         "0.0",
         "0.2959183673469387",
         "0.6",
         "1.0",
         "1.0",
         "1.0",
         "0.0",
         "0.0",
         "0.0",
         "1.0",
         "0.0",
         "0.0",
         "0.0",
         "0.0",
         "0.0",
         "0.0",
         "0.0",
         "0.0",
         "0.0",
         "0.0",
         "0.0",
         "0.0",
         "0.0",
         "1.0",
         "0.0",
         "0.0",
         "0.0",
         "0.0",
         "0.0",
         "1.0",
         "0.0",
         "0.0",
         "0.0",
         "0.0",
         "0.0",
         "1.0",
         "1.0",
         "0.0",
         "0.0",
         "0.0",
         "1.0",
         "0.0",
         "0.0",
         "0.0"
        ],
        [
         "3",
         "0.42612148826853913",
         "0.09213101918308755",
         "0.0",
         "0.0",
         "0.5",
         "0.5333333333333333",
         "0.0",
         "0.0",
         "0.0",
         "0.0",
         "0.0",
         "0.0",
         "1.0",
         "0.0",
         "0.0",
         "0.0",
         "0.0",
         "0.0",
         "0.0",
         "0.0",
         "0.0",
         "0.0",
         "1.0",
         "0.0",
         "0.0",
         "0.0",
         "0.0",
         "0.0",
         "0.0",
         "1.0",
         "0.0",
         "0.0",
         "0.0",
         "0.0",
         "0.0",
         "1.0",
         "0.0",
         "0.0",
         "0.0",
         "1.0",
         "0.0",
         "0.0",
         "0.0",
         "0.0",
         "1.0",
         "0.0",
         "0.0"
        ],
        [
         "4",
         "-1.0973313597187146",
         "0.09213101918308755",
         "0.0",
         "0.0",
         "0.346938775510204",
         "0.6666666666666666",
         "1.0",
         "1.0",
         "1.0",
         "0.0",
         "0.0",
         "0.0",
         "1.0",
         "0.0",
         "0.0",
         "0.0",
         "0.0",
         "0.0",
         "1.0",
         "0.0",
         "0.0",
         "0.0",
         "0.0",
         "0.0",
         "0.0",
         "0.0",
         "0.0",
         "0.0",
         "0.0",
         "0.0",
         "0.0",
         "0.0",
         "1.0",
         "0.0",
         "0.0",
         "0.0",
         "0.0",
         "0.0",
         "1.0",
         "0.0",
         "0.0",
         "0.0",
         "1.0",
         "1.0",
         "0.0",
         "0.0",
         "0.0"
        ]
       ],
       "shape": {
        "columns": 47,
        "rows": 5
       }
      },
      "text/html": [
       "<div>\n",
       "<style scoped>\n",
       "    .dataframe tbody tr th:only-of-type {\n",
       "        vertical-align: middle;\n",
       "    }\n",
       "\n",
       "    .dataframe tbody tr th {\n",
       "        vertical-align: top;\n",
       "    }\n",
       "\n",
       "    .dataframe thead th {\n",
       "        text-align: right;\n",
       "    }\n",
       "</style>\n",
       "<table border=\"1\" class=\"dataframe\">\n",
       "  <thead>\n",
       "    <tr style=\"text-align: right;\">\n",
       "      <th></th>\n",
       "      <th>std__age</th>\n",
       "      <th>minmax__net.capital</th>\n",
       "      <th>minmax__capital.gain.log</th>\n",
       "      <th>minmax__capital.loss.log</th>\n",
       "      <th>minmax__hours.per.week</th>\n",
       "      <th>minmax__education.num</th>\n",
       "      <th>bin__sex</th>\n",
       "      <th>bin__is_single_parent</th>\n",
       "      <th>bin__is_US</th>\n",
       "      <th>cat__workclass_Entrepreneur</th>\n",
       "      <th>...</th>\n",
       "      <th>cat__race_Other</th>\n",
       "      <th>cat__race_White</th>\n",
       "      <th>cat__age_group_Adult</th>\n",
       "      <th>cat__age_group_Senior</th>\n",
       "      <th>cat__age_group_Very Senior</th>\n",
       "      <th>cat__age_group_Young</th>\n",
       "      <th>cat__hours_per_week_group_Full-time</th>\n",
       "      <th>cat__hours_per_week_group_Overtime</th>\n",
       "      <th>cat__hours_per_week_group_Part-time</th>\n",
       "      <th>cat__hours_per_week_group_Very Overtime</th>\n",
       "    </tr>\n",
       "  </thead>\n",
       "  <tbody>\n",
       "    <tr>\n",
       "      <th>0</th>\n",
       "      <td>0.654639</td>\n",
       "      <td>0.035365</td>\n",
       "      <td>0.0</td>\n",
       "      <td>0.939085</td>\n",
       "      <td>0.397959</td>\n",
       "      <td>0.800000</td>\n",
       "      <td>1.0</td>\n",
       "      <td>0.0</td>\n",
       "      <td>1.0</td>\n",
       "      <td>0.0</td>\n",
       "      <td>...</td>\n",
       "      <td>0.0</td>\n",
       "      <td>1.0</td>\n",
       "      <td>1.0</td>\n",
       "      <td>0.0</td>\n",
       "      <td>0.0</td>\n",
       "      <td>0.0</td>\n",
       "      <td>1.0</td>\n",
       "      <td>0.0</td>\n",
       "      <td>0.0</td>\n",
       "      <td>0.0</td>\n",
       "    </tr>\n",
       "    <tr>\n",
       "      <th>1</th>\n",
       "      <td>0.045258</td>\n",
       "      <td>0.092131</td>\n",
       "      <td>0.0</td>\n",
       "      <td>0.000000</td>\n",
       "      <td>0.500000</td>\n",
       "      <td>0.866667</td>\n",
       "      <td>1.0</td>\n",
       "      <td>0.0</td>\n",
       "      <td>1.0</td>\n",
       "      <td>0.0</td>\n",
       "      <td>...</td>\n",
       "      <td>0.0</td>\n",
       "      <td>1.0</td>\n",
       "      <td>1.0</td>\n",
       "      <td>0.0</td>\n",
       "      <td>0.0</td>\n",
       "      <td>0.0</td>\n",
       "      <td>0.0</td>\n",
       "      <td>1.0</td>\n",
       "      <td>0.0</td>\n",
       "      <td>0.0</td>\n",
       "    </tr>\n",
       "    <tr>\n",
       "      <th>2</th>\n",
       "      <td>-0.487950</td>\n",
       "      <td>0.092131</td>\n",
       "      <td>0.0</td>\n",
       "      <td>0.000000</td>\n",
       "      <td>0.295918</td>\n",
       "      <td>0.600000</td>\n",
       "      <td>1.0</td>\n",
       "      <td>1.0</td>\n",
       "      <td>1.0</td>\n",
       "      <td>0.0</td>\n",
       "      <td>...</td>\n",
       "      <td>0.0</td>\n",
       "      <td>1.0</td>\n",
       "      <td>1.0</td>\n",
       "      <td>0.0</td>\n",
       "      <td>0.0</td>\n",
       "      <td>0.0</td>\n",
       "      <td>1.0</td>\n",
       "      <td>0.0</td>\n",
       "      <td>0.0</td>\n",
       "      <td>0.0</td>\n",
       "    </tr>\n",
       "    <tr>\n",
       "      <th>3</th>\n",
       "      <td>0.426121</td>\n",
       "      <td>0.092131</td>\n",
       "      <td>0.0</td>\n",
       "      <td>0.000000</td>\n",
       "      <td>0.500000</td>\n",
       "      <td>0.533333</td>\n",
       "      <td>0.0</td>\n",
       "      <td>0.0</td>\n",
       "      <td>0.0</td>\n",
       "      <td>0.0</td>\n",
       "      <td>...</td>\n",
       "      <td>0.0</td>\n",
       "      <td>0.0</td>\n",
       "      <td>1.0</td>\n",
       "      <td>0.0</td>\n",
       "      <td>0.0</td>\n",
       "      <td>0.0</td>\n",
       "      <td>0.0</td>\n",
       "      <td>1.0</td>\n",
       "      <td>0.0</td>\n",
       "      <td>0.0</td>\n",
       "    </tr>\n",
       "    <tr>\n",
       "      <th>4</th>\n",
       "      <td>-1.097331</td>\n",
       "      <td>0.092131</td>\n",
       "      <td>0.0</td>\n",
       "      <td>0.000000</td>\n",
       "      <td>0.346939</td>\n",
       "      <td>0.666667</td>\n",
       "      <td>1.0</td>\n",
       "      <td>1.0</td>\n",
       "      <td>1.0</td>\n",
       "      <td>0.0</td>\n",
       "      <td>...</td>\n",
       "      <td>0.0</td>\n",
       "      <td>1.0</td>\n",
       "      <td>0.0</td>\n",
       "      <td>0.0</td>\n",
       "      <td>0.0</td>\n",
       "      <td>1.0</td>\n",
       "      <td>1.0</td>\n",
       "      <td>0.0</td>\n",
       "      <td>0.0</td>\n",
       "      <td>0.0</td>\n",
       "    </tr>\n",
       "  </tbody>\n",
       "</table>\n",
       "<p>5 rows × 47 columns</p>\n",
       "</div>"
      ],
      "text/plain": [
       "   std__age  minmax__net.capital  minmax__capital.gain.log  \\\n",
       "0  0.654639             0.035365                       0.0   \n",
       "1  0.045258             0.092131                       0.0   \n",
       "2 -0.487950             0.092131                       0.0   \n",
       "3  0.426121             0.092131                       0.0   \n",
       "4 -1.097331             0.092131                       0.0   \n",
       "\n",
       "   minmax__capital.loss.log  minmax__hours.per.week  minmax__education.num  \\\n",
       "0                  0.939085                0.397959               0.800000   \n",
       "1                  0.000000                0.500000               0.866667   \n",
       "2                  0.000000                0.295918               0.600000   \n",
       "3                  0.000000                0.500000               0.533333   \n",
       "4                  0.000000                0.346939               0.666667   \n",
       "\n",
       "   bin__sex  bin__is_single_parent  bin__is_US  cat__workclass_Entrepreneur  \\\n",
       "0       1.0                    0.0         1.0                          0.0   \n",
       "1       1.0                    0.0         1.0                          0.0   \n",
       "2       1.0                    1.0         1.0                          0.0   \n",
       "3       0.0                    0.0         0.0                          0.0   \n",
       "4       1.0                    1.0         1.0                          0.0   \n",
       "\n",
       "   ...  cat__race_Other  cat__race_White  cat__age_group_Adult  \\\n",
       "0  ...              0.0              1.0                   1.0   \n",
       "1  ...              0.0              1.0                   1.0   \n",
       "2  ...              0.0              1.0                   1.0   \n",
       "3  ...              0.0              0.0                   1.0   \n",
       "4  ...              0.0              1.0                   0.0   \n",
       "\n",
       "   cat__age_group_Senior  cat__age_group_Very Senior  cat__age_group_Young  \\\n",
       "0                    0.0                         0.0                   0.0   \n",
       "1                    0.0                         0.0                   0.0   \n",
       "2                    0.0                         0.0                   0.0   \n",
       "3                    0.0                         0.0                   0.0   \n",
       "4                    0.0                         0.0                   1.0   \n",
       "\n",
       "   cat__hours_per_week_group_Full-time  cat__hours_per_week_group_Overtime  \\\n",
       "0                                  1.0                                 0.0   \n",
       "1                                  0.0                                 1.0   \n",
       "2                                  1.0                                 0.0   \n",
       "3                                  0.0                                 1.0   \n",
       "4                                  1.0                                 0.0   \n",
       "\n",
       "   cat__hours_per_week_group_Part-time  \\\n",
       "0                                  0.0   \n",
       "1                                  0.0   \n",
       "2                                  0.0   \n",
       "3                                  0.0   \n",
       "4                                  0.0   \n",
       "\n",
       "   cat__hours_per_week_group_Very Overtime  \n",
       "0                                      0.0  \n",
       "1                                      0.0  \n",
       "2                                      0.0  \n",
       "3                                      0.0  \n",
       "4                                      0.0  \n",
       "\n",
       "[5 rows x 47 columns]"
      ]
     },
     "execution_count": 27,
     "metadata": {},
     "output_type": "execute_result"
    }
   ],
   "source": [
    "X_train.head()"
   ]
  },
  {
   "cell_type": "code",
   "execution_count": 28,
   "id": "da2ad8f4",
   "metadata": {},
   "outputs": [
    {
     "data": {
      "application/vnd.microsoft.datawrangler.viewer.v0+json": {
       "columns": [
        {
         "name": "index",
         "rawType": "int64",
         "type": "integer"
        },
        {
         "name": "std__age",
         "rawType": "float64",
         "type": "float"
        },
        {
         "name": "minmax__net.capital",
         "rawType": "float64",
         "type": "float"
        },
        {
         "name": "minmax__capital.gain.log",
         "rawType": "float64",
         "type": "float"
        },
        {
         "name": "minmax__capital.loss.log",
         "rawType": "float64",
         "type": "float"
        },
        {
         "name": "minmax__hours.per.week",
         "rawType": "float64",
         "type": "float"
        },
        {
         "name": "minmax__education.num",
         "rawType": "float64",
         "type": "float"
        },
        {
         "name": "bin__sex",
         "rawType": "float64",
         "type": "float"
        },
        {
         "name": "bin__is_single_parent",
         "rawType": "float64",
         "type": "float"
        },
        {
         "name": "bin__is_US",
         "rawType": "float64",
         "type": "float"
        },
        {
         "name": "cat__workclass_Entrepreneur",
         "rawType": "float64",
         "type": "float"
        },
        {
         "name": "cat__workclass_Federal-gov",
         "rawType": "float64",
         "type": "float"
        },
        {
         "name": "cat__workclass_Local-gov",
         "rawType": "float64",
         "type": "float"
        },
        {
         "name": "cat__workclass_Private",
         "rawType": "float64",
         "type": "float"
        },
        {
         "name": "cat__workclass_State-gov",
         "rawType": "float64",
         "type": "float"
        },
        {
         "name": "cat__workclass_Without-pay",
         "rawType": "float64",
         "type": "float"
        },
        {
         "name": "cat__occupation_Adm-clerical",
         "rawType": "float64",
         "type": "float"
        },
        {
         "name": "cat__occupation_Armed-Forces",
         "rawType": "float64",
         "type": "float"
        },
        {
         "name": "cat__occupation_Craft-repair",
         "rawType": "float64",
         "type": "float"
        },
        {
         "name": "cat__occupation_Exec-managerial",
         "rawType": "float64",
         "type": "float"
        },
        {
         "name": "cat__occupation_Farming-fishing",
         "rawType": "float64",
         "type": "float"
        },
        {
         "name": "cat__occupation_Handlers-cleaners",
         "rawType": "float64",
         "type": "float"
        },
        {
         "name": "cat__occupation_Machine-op-inspct",
         "rawType": "float64",
         "type": "float"
        },
        {
         "name": "cat__occupation_Other-service",
         "rawType": "float64",
         "type": "float"
        },
        {
         "name": "cat__occupation_Priv-house-serv",
         "rawType": "float64",
         "type": "float"
        },
        {
         "name": "cat__occupation_Prof-specialty",
         "rawType": "float64",
         "type": "float"
        },
        {
         "name": "cat__occupation_Protective-serv",
         "rawType": "float64",
         "type": "float"
        },
        {
         "name": "cat__occupation_Sales",
         "rawType": "float64",
         "type": "float"
        },
        {
         "name": "cat__occupation_Tech-support",
         "rawType": "float64",
         "type": "float"
        },
        {
         "name": "cat__occupation_Transport-moving",
         "rawType": "float64",
         "type": "float"
        },
        {
         "name": "cat__relationship_Married",
         "rawType": "float64",
         "type": "float"
        },
        {
         "name": "cat__relationship_Not-in-family",
         "rawType": "float64",
         "type": "float"
        },
        {
         "name": "cat__relationship_Other-relative",
         "rawType": "float64",
         "type": "float"
        },
        {
         "name": "cat__relationship_Own-child",
         "rawType": "float64",
         "type": "float"
        },
        {
         "name": "cat__relationship_Unmarried",
         "rawType": "float64",
         "type": "float"
        },
        {
         "name": "cat__race_Amer-Indian-Eskimo",
         "rawType": "float64",
         "type": "float"
        },
        {
         "name": "cat__race_Asian-Pac-Islander",
         "rawType": "float64",
         "type": "float"
        },
        {
         "name": "cat__race_Black",
         "rawType": "float64",
         "type": "float"
        },
        {
         "name": "cat__race_Other",
         "rawType": "float64",
         "type": "float"
        },
        {
         "name": "cat__race_White",
         "rawType": "float64",
         "type": "float"
        },
        {
         "name": "cat__age_group_Adult",
         "rawType": "float64",
         "type": "float"
        },
        {
         "name": "cat__age_group_Senior",
         "rawType": "float64",
         "type": "float"
        },
        {
         "name": "cat__age_group_Very Senior",
         "rawType": "float64",
         "type": "float"
        },
        {
         "name": "cat__age_group_Young",
         "rawType": "float64",
         "type": "float"
        },
        {
         "name": "cat__hours_per_week_group_Full-time",
         "rawType": "float64",
         "type": "float"
        },
        {
         "name": "cat__hours_per_week_group_Overtime",
         "rawType": "float64",
         "type": "float"
        },
        {
         "name": "cat__hours_per_week_group_Part-time",
         "rawType": "float64",
         "type": "float"
        },
        {
         "name": "cat__hours_per_week_group_Very Overtime",
         "rawType": "float64",
         "type": "float"
        }
       ],
       "ref": "814e824c-54b1-46f1-9cbf-30c173e5376e",
       "rows": [
        [
         "0",
         "1.7210564090577047",
         "0.09213101918308755",
         "0.0",
         "0.0",
         "0.39795918367346933",
         "0.0",
         "1.0",
         "0.0",
         "0.0",
         "0.0",
         "0.0",
         "0.0",
         "1.0",
         "0.0",
         "0.0",
         "0.0",
         "0.0",
         "0.0",
         "0.0",
         "0.0",
         "0.0",
         "0.0",
         "1.0",
         "0.0",
         "0.0",
         "0.0",
         "0.0",
         "0.0",
         "0.0",
         "0.0",
         "1.0",
         "0.0",
         "0.0",
         "0.0",
         "0.0",
         "1.0",
         "0.0",
         "0.0",
         "0.0",
         "0.0",
         "1.0",
         "0.0",
         "0.0",
         "1.0",
         "0.0",
         "0.0",
         "0.0"
        ],
        [
         "1",
         "1.7210564090577047",
         "0.14012136239070858",
         "0.7127707323856441",
         "0.0",
         "0.346938775510204",
         "0.5333333333333333",
         "0.0",
         "0.0",
         "1.0",
         "0.0",
         "0.0",
         "1.0",
         "0.0",
         "0.0",
         "0.0",
         "1.0",
         "0.0",
         "0.0",
         "0.0",
         "0.0",
         "0.0",
         "0.0",
         "0.0",
         "0.0",
         "0.0",
         "0.0",
         "0.0",
         "0.0",
         "0.0",
         "0.0",
         "0.0",
         "0.0",
         "0.0",
         "1.0",
         "0.0",
         "0.0",
         "0.0",
         "0.0",
         "1.0",
         "0.0",
         "1.0",
         "0.0",
         "0.0",
         "1.0",
         "0.0",
         "0.0",
         "0.0"
        ],
        [
         "2",
         "-0.5641228629231758",
         "0.09213101918308755",
         "0.0",
         "0.0",
         "0.39795918367346933",
         "0.8",
         "0.0",
         "0.0",
         "1.0",
         "0.0",
         "1.0",
         "0.0",
         "0.0",
         "0.0",
         "0.0",
         "0.0",
         "0.0",
         "0.0",
         "1.0",
         "0.0",
         "0.0",
         "0.0",
         "0.0",
         "0.0",
         "0.0",
         "0.0",
         "0.0",
         "0.0",
         "0.0",
         "0.0",
         "1.0",
         "0.0",
         "0.0",
         "0.0",
         "0.0",
         "0.0",
         "1.0",
         "0.0",
         "0.0",
         "1.0",
         "0.0",
         "0.0",
         "0.0",
         "1.0",
         "0.0",
         "0.0",
         "0.0"
        ],
        [
         "3",
         "-1.0973313597187146",
         "0.09213101918308755",
         "0.0",
         "0.0",
         "0.39795918367346933",
         "0.8",
         "0.0",
         "0.0",
         "1.0",
         "0.0",
         "0.0",
         "0.0",
         "1.0",
         "0.0",
         "0.0",
         "1.0",
         "0.0",
         "0.0",
         "0.0",
         "0.0",
         "0.0",
         "0.0",
         "0.0",
         "0.0",
         "0.0",
         "0.0",
         "0.0",
         "0.0",
         "0.0",
         "0.0",
         "1.0",
         "0.0",
         "0.0",
         "0.0",
         "0.0",
         "1.0",
         "0.0",
         "0.0",
         "0.0",
         "0.0",
         "0.0",
         "0.0",
         "1.0",
         "1.0",
         "0.0",
         "0.0",
         "0.0"
        ],
        [
         "4",
         "-0.4117775781244505",
         "0.09213101918308755",
         "0.0",
         "0.0",
         "0.37755102040816324",
         "0.8",
         "1.0",
         "0.0",
         "1.0",
         "0.0",
         "0.0",
         "0.0",
         "1.0",
         "0.0",
         "0.0",
         "0.0",
         "0.0",
         "0.0",
         "0.0",
         "0.0",
         "0.0",
         "0.0",
         "0.0",
         "0.0",
         "1.0",
         "0.0",
         "0.0",
         "0.0",
         "0.0",
         "1.0",
         "0.0",
         "0.0",
         "0.0",
         "0.0",
         "0.0",
         "0.0",
         "0.0",
         "0.0",
         "1.0",
         "1.0",
         "0.0",
         "0.0",
         "0.0",
         "1.0",
         "0.0",
         "0.0",
         "0.0"
        ]
       ],
       "shape": {
        "columns": 47,
        "rows": 5
       }
      },
      "text/html": [
       "<div>\n",
       "<style scoped>\n",
       "    .dataframe tbody tr th:only-of-type {\n",
       "        vertical-align: middle;\n",
       "    }\n",
       "\n",
       "    .dataframe tbody tr th {\n",
       "        vertical-align: top;\n",
       "    }\n",
       "\n",
       "    .dataframe thead th {\n",
       "        text-align: right;\n",
       "    }\n",
       "</style>\n",
       "<table border=\"1\" class=\"dataframe\">\n",
       "  <thead>\n",
       "    <tr style=\"text-align: right;\">\n",
       "      <th></th>\n",
       "      <th>std__age</th>\n",
       "      <th>minmax__net.capital</th>\n",
       "      <th>minmax__capital.gain.log</th>\n",
       "      <th>minmax__capital.loss.log</th>\n",
       "      <th>minmax__hours.per.week</th>\n",
       "      <th>minmax__education.num</th>\n",
       "      <th>bin__sex</th>\n",
       "      <th>bin__is_single_parent</th>\n",
       "      <th>bin__is_US</th>\n",
       "      <th>cat__workclass_Entrepreneur</th>\n",
       "      <th>...</th>\n",
       "      <th>cat__race_Other</th>\n",
       "      <th>cat__race_White</th>\n",
       "      <th>cat__age_group_Adult</th>\n",
       "      <th>cat__age_group_Senior</th>\n",
       "      <th>cat__age_group_Very Senior</th>\n",
       "      <th>cat__age_group_Young</th>\n",
       "      <th>cat__hours_per_week_group_Full-time</th>\n",
       "      <th>cat__hours_per_week_group_Overtime</th>\n",
       "      <th>cat__hours_per_week_group_Part-time</th>\n",
       "      <th>cat__hours_per_week_group_Very Overtime</th>\n",
       "    </tr>\n",
       "  </thead>\n",
       "  <tbody>\n",
       "    <tr>\n",
       "      <th>0</th>\n",
       "      <td>1.721056</td>\n",
       "      <td>0.092131</td>\n",
       "      <td>0.000000</td>\n",
       "      <td>0.0</td>\n",
       "      <td>0.397959</td>\n",
       "      <td>0.000000</td>\n",
       "      <td>1.0</td>\n",
       "      <td>0.0</td>\n",
       "      <td>0.0</td>\n",
       "      <td>0.0</td>\n",
       "      <td>...</td>\n",
       "      <td>0.0</td>\n",
       "      <td>0.0</td>\n",
       "      <td>0.0</td>\n",
       "      <td>1.0</td>\n",
       "      <td>0.0</td>\n",
       "      <td>0.0</td>\n",
       "      <td>1.0</td>\n",
       "      <td>0.0</td>\n",
       "      <td>0.0</td>\n",
       "      <td>0.0</td>\n",
       "    </tr>\n",
       "    <tr>\n",
       "      <th>1</th>\n",
       "      <td>1.721056</td>\n",
       "      <td>0.140121</td>\n",
       "      <td>0.712771</td>\n",
       "      <td>0.0</td>\n",
       "      <td>0.346939</td>\n",
       "      <td>0.533333</td>\n",
       "      <td>0.0</td>\n",
       "      <td>0.0</td>\n",
       "      <td>1.0</td>\n",
       "      <td>0.0</td>\n",
       "      <td>...</td>\n",
       "      <td>0.0</td>\n",
       "      <td>1.0</td>\n",
       "      <td>0.0</td>\n",
       "      <td>1.0</td>\n",
       "      <td>0.0</td>\n",
       "      <td>0.0</td>\n",
       "      <td>1.0</td>\n",
       "      <td>0.0</td>\n",
       "      <td>0.0</td>\n",
       "      <td>0.0</td>\n",
       "    </tr>\n",
       "    <tr>\n",
       "      <th>2</th>\n",
       "      <td>-0.564123</td>\n",
       "      <td>0.092131</td>\n",
       "      <td>0.000000</td>\n",
       "      <td>0.0</td>\n",
       "      <td>0.397959</td>\n",
       "      <td>0.800000</td>\n",
       "      <td>0.0</td>\n",
       "      <td>0.0</td>\n",
       "      <td>1.0</td>\n",
       "      <td>0.0</td>\n",
       "      <td>...</td>\n",
       "      <td>0.0</td>\n",
       "      <td>0.0</td>\n",
       "      <td>1.0</td>\n",
       "      <td>0.0</td>\n",
       "      <td>0.0</td>\n",
       "      <td>0.0</td>\n",
       "      <td>1.0</td>\n",
       "      <td>0.0</td>\n",
       "      <td>0.0</td>\n",
       "      <td>0.0</td>\n",
       "    </tr>\n",
       "    <tr>\n",
       "      <th>3</th>\n",
       "      <td>-1.097331</td>\n",
       "      <td>0.092131</td>\n",
       "      <td>0.000000</td>\n",
       "      <td>0.0</td>\n",
       "      <td>0.397959</td>\n",
       "      <td>0.800000</td>\n",
       "      <td>0.0</td>\n",
       "      <td>0.0</td>\n",
       "      <td>1.0</td>\n",
       "      <td>0.0</td>\n",
       "      <td>...</td>\n",
       "      <td>0.0</td>\n",
       "      <td>0.0</td>\n",
       "      <td>0.0</td>\n",
       "      <td>0.0</td>\n",
       "      <td>0.0</td>\n",
       "      <td>1.0</td>\n",
       "      <td>1.0</td>\n",
       "      <td>0.0</td>\n",
       "      <td>0.0</td>\n",
       "      <td>0.0</td>\n",
       "    </tr>\n",
       "    <tr>\n",
       "      <th>4</th>\n",
       "      <td>-0.411778</td>\n",
       "      <td>0.092131</td>\n",
       "      <td>0.000000</td>\n",
       "      <td>0.0</td>\n",
       "      <td>0.377551</td>\n",
       "      <td>0.800000</td>\n",
       "      <td>1.0</td>\n",
       "      <td>0.0</td>\n",
       "      <td>1.0</td>\n",
       "      <td>0.0</td>\n",
       "      <td>...</td>\n",
       "      <td>0.0</td>\n",
       "      <td>1.0</td>\n",
       "      <td>1.0</td>\n",
       "      <td>0.0</td>\n",
       "      <td>0.0</td>\n",
       "      <td>0.0</td>\n",
       "      <td>1.0</td>\n",
       "      <td>0.0</td>\n",
       "      <td>0.0</td>\n",
       "      <td>0.0</td>\n",
       "    </tr>\n",
       "  </tbody>\n",
       "</table>\n",
       "<p>5 rows × 47 columns</p>\n",
       "</div>"
      ],
      "text/plain": [
       "   std__age  minmax__net.capital  minmax__capital.gain.log  \\\n",
       "0  1.721056             0.092131                  0.000000   \n",
       "1  1.721056             0.140121                  0.712771   \n",
       "2 -0.564123             0.092131                  0.000000   \n",
       "3 -1.097331             0.092131                  0.000000   \n",
       "4 -0.411778             0.092131                  0.000000   \n",
       "\n",
       "   minmax__capital.loss.log  minmax__hours.per.week  minmax__education.num  \\\n",
       "0                       0.0                0.397959               0.000000   \n",
       "1                       0.0                0.346939               0.533333   \n",
       "2                       0.0                0.397959               0.800000   \n",
       "3                       0.0                0.397959               0.800000   \n",
       "4                       0.0                0.377551               0.800000   \n",
       "\n",
       "   bin__sex  bin__is_single_parent  bin__is_US  cat__workclass_Entrepreneur  \\\n",
       "0       1.0                    0.0         0.0                          0.0   \n",
       "1       0.0                    0.0         1.0                          0.0   \n",
       "2       0.0                    0.0         1.0                          0.0   \n",
       "3       0.0                    0.0         1.0                          0.0   \n",
       "4       1.0                    0.0         1.0                          0.0   \n",
       "\n",
       "   ...  cat__race_Other  cat__race_White  cat__age_group_Adult  \\\n",
       "0  ...              0.0              0.0                   0.0   \n",
       "1  ...              0.0              1.0                   0.0   \n",
       "2  ...              0.0              0.0                   1.0   \n",
       "3  ...              0.0              0.0                   0.0   \n",
       "4  ...              0.0              1.0                   1.0   \n",
       "\n",
       "   cat__age_group_Senior  cat__age_group_Very Senior  cat__age_group_Young  \\\n",
       "0                    1.0                         0.0                   0.0   \n",
       "1                    1.0                         0.0                   0.0   \n",
       "2                    0.0                         0.0                   0.0   \n",
       "3                    0.0                         0.0                   1.0   \n",
       "4                    0.0                         0.0                   0.0   \n",
       "\n",
       "   cat__hours_per_week_group_Full-time  cat__hours_per_week_group_Overtime  \\\n",
       "0                                  1.0                                 0.0   \n",
       "1                                  1.0                                 0.0   \n",
       "2                                  1.0                                 0.0   \n",
       "3                                  1.0                                 0.0   \n",
       "4                                  1.0                                 0.0   \n",
       "\n",
       "   cat__hours_per_week_group_Part-time  \\\n",
       "0                                  0.0   \n",
       "1                                  0.0   \n",
       "2                                  0.0   \n",
       "3                                  0.0   \n",
       "4                                  0.0   \n",
       "\n",
       "   cat__hours_per_week_group_Very Overtime  \n",
       "0                                      0.0  \n",
       "1                                      0.0  \n",
       "2                                      0.0  \n",
       "3                                      0.0  \n",
       "4                                      0.0  \n",
       "\n",
       "[5 rows x 47 columns]"
      ]
     },
     "execution_count": 28,
     "metadata": {},
     "output_type": "execute_result"
    }
   ],
   "source": [
    "X_test.head()"
   ]
  },
  {
   "cell_type": "markdown",
   "id": "e6934f1a",
   "metadata": {},
   "source": [
    "# Feature Selection"
   ]
  },
  {
   "cell_type": "code",
   "execution_count": 29,
   "id": "595f3fb2",
   "metadata": {},
   "outputs": [
    {
     "name": "stdout",
     "output_type": "stream",
     "text": [
      "Evaluating N=2 using 5-Fold Cross-Validation on training data...\n",
      "  Average CV F1 for N=2: 0.6202\n",
      "Evaluating N=3 using 5-Fold Cross-Validation on training data...\n",
      "  Average CV F1 for N=3: 0.6616\n",
      "Evaluating N=4 using 5-Fold Cross-Validation on training data...\n",
      "  Average CV F1 for N=4: 0.6627\n",
      "Evaluating N=5 using 5-Fold Cross-Validation on training data...\n",
      "  Average CV F1 for N=5: 0.6629\n",
      "Evaluating N=6 using 5-Fold Cross-Validation on training data...\n",
      "  Average CV F1 for N=6: 0.6715\n",
      "Evaluating N=7 using 5-Fold Cross-Validation on training data...\n",
      "  Average CV F1 for N=7: 0.6770\n",
      "Evaluating N=8 using 5-Fold Cross-Validation on training data...\n",
      "  Average CV F1 for N=8: 0.6585\n",
      "Evaluating N=9 using 5-Fold Cross-Validation on training data...\n",
      "  Average CV F1 for N=9: 0.6561\n",
      "Evaluating N=10 using 5-Fold Cross-Validation on training data...\n",
      "  Average CV F1 for N=10: 0.6536\n",
      "--------------------------------------------------\n",
      "Best N (based on TRAINING CV): 7 with Average CV F1: 0.6770\n"
     ]
    }
   ],
   "source": [
    "from sklearn.ensemble import RandomForestClassifier\n",
    "from sklearn.feature_selection import SelectKBest, f_classif\n",
    "from sklearn.metrics import f1_score\n",
    "from sklearn.model_selection import StratifiedKFold\n",
    "\n",
    "\n",
    "cv = StratifiedKFold(n_splits=5, shuffle=True, random_state=42)\n",
    "cv_results = {} # To store the average CV ROC-AUC for each N\n",
    "\n",
    "for N in range(2, 11):\n",
    "    print(f\"Evaluating N={N} using 5-Fold Cross-Validation on training data...\")\n",
    "    fold_scores = []\n",
    "    \n",
    "    # Perform CV on the training data\n",
    "    for train_idx, val_idx in cv.split(X_train, y_train):\n",
    "        \n",
    "        # Split the training data into temporary CV-Train and CV-Validation sets\n",
    "        X_cv_train, X_cv_val = X_train.iloc[train_idx], X_train.iloc[val_idx]\n",
    "        y_cv_train, y_cv_val = y_train.iloc[train_idx], y_train.iloc[val_idx]\n",
    "        \n",
    "        # Feature Selection: Fit and Transform ONLY on CV-TRAIN\n",
    "        k_best = SelectKBest(score_func=f_classif, k=N)\n",
    "        X_cv_train_sel = k_best.fit_transform(X_cv_train, y_cv_train)\n",
    "        \n",
    "        # Transform CV-VALIDATION set\n",
    "        X_cv_val_sel = k_best.transform(X_cv_val)\n",
    "        \n",
    "        # Model Training: Train model on CV-Train selected features\n",
    "        rfc = RandomForestClassifier(n_estimators=100, random_state=42, class_weight=\"balanced\")\n",
    "        rfc.fit(X_cv_train_sel, y_cv_train)\n",
    "        \n",
    "        # Evaluation: Evaluate on CV-Validation selected features\n",
    "        # 1. Get hard class predictions (0 or 1)\n",
    "        y_cv_val_pred = rfc.predict(X_cv_val_sel)\n",
    "\n",
    "        # 2. Calculate F1-score\n",
    "        val_f1 = f1_score(y_cv_val, y_cv_val_pred)\n",
    "\n",
    "        fold_scores.append(val_f1)\n",
    "        \n",
    "    # Store the average F1 for this N\n",
    "    avg_cv_f1 = np.mean(fold_scores)\n",
    "    cv_results[N] = avg_cv_f1\n",
    "    print(f\"  Average CV F1 for N={N}: {avg_cv_f1:.4f}\")\n",
    "\n",
    "# Get best N based on CV performance\n",
    "best_N = max(cv_results, key=cv_results.get)\n",
    "best_cv_f1 = cv_results[best_N]\n",
    "print(\"-\" * 50)\n",
    "print(f\"Best N (based on TRAINING CV): {best_N} with Average CV F1: {best_cv_f1:.4f}\")"
   ]
  },
  {
   "cell_type": "code",
   "execution_count": 30,
   "id": "de81ef5e",
   "metadata": {},
   "outputs": [
    {
     "data": {
      "image/png": "[encoded data removed]",
      "text/plain": [
       "<Figure size 640x480 with 1 Axes>"
      ]
     },
     "metadata": {},
     "output_type": "display_data"
    }
   ],
   "source": [
    "# Plot N vs F1\n",
    "Ns, roc_aucs = cv_results.keys(), cv_results.values()\n",
    "plt.plot(Ns, roc_aucs, marker='o')\n",
    "plt.title('Number of Features vs F1')\n",
    "plt.xlabel('Number of Features (N)')\n",
    "plt.ylabel('Test F1')\n",
    "plt.grid()\n",
    "plt.show()"
   ]
  },
  {
   "cell_type": "code",
   "execution_count": 40,
   "id": "0e10af91",
   "metadata": {},
   "outputs": [],
   "source": [
    "k_best = SelectKBest(score_func=f_classif, k=best_N)\n",
    "X_train_sel = k_best.fit_transform(X_train, y_train)\n",
    "X_test_sel = k_best.transform(X_test)"
   ]
  },
  {
   "cell_type": "code",
   "execution_count": 41,
   "id": "ec9f0c95",
   "metadata": {},
   "outputs": [],
   "source": [
    "# Get the indices of the selected features\n",
    "selected_feature_indices = k_best.get_support(indices=True)\n",
    "\n",
    "# Get the names of all processed features\n",
    "all_feature_names = preprocessor.get_feature_names_out()\n",
    "\n",
    "# Get the names of the selected features\n",
    "selected_feature_names = all_feature_names[selected_feature_indices]\n",
    "\n",
    "# Get the scores of the selected features\n",
    "selected_feature_scores = k_best.scores_[selected_feature_indices]\n",
    "\n",
    "# Create a pandas Series to display feature importance\n",
    "sorted_feature_importance = (\n",
    "    pd.Series(selected_feature_scores, index=selected_feature_names)\n",
    "    .sort_values(ascending=False)\n",
    ")"
   ]
  },
  {
   "cell_type": "code",
   "execution_count": 38,
   "id": "57d23e81",
   "metadata": {},
   "outputs": [
    {
     "data": {
      "application/vnd.microsoft.datawrangler.viewer.v0+json": {
       "columns": [
        {
         "name": "index",
         "rawType": "object",
         "type": "string"
        },
        {
         "name": "0",
         "rawType": "float64",
         "type": "float"
        }
       ],
       "ref": "6d8a28ae-ea80-4463-b888-710490c8766a",
       "rows": [
        [
         "cat__relationship_Married",
         "5984.696574037111"
        ],
        [
         "minmax__education.num",
         "2984.804303613717"
        ],
        [
         "minmax__net.capital",
         "2127.240013976229"
        ],
        [
         "minmax__capital.gain.log",
         "1788.7257784158226"
        ],
        [
         "bin__is_single_parent",
         "1521.7341876616065"
        ],
        [
         "cat__age_group_Young",
         "1484.969305874238"
        ],
        [
         "std__age",
         "1424.894139108728"
        ]
       ],
       "shape": {
        "columns": 1,
        "rows": 7
       }
      },
      "text/plain": [
       "cat__relationship_Married    5984.696574\n",
       "minmax__education.num        2984.804304\n",
       "minmax__net.capital          2127.240014\n",
       "minmax__capital.gain.log     1788.725778\n",
       "bin__is_single_parent        1521.734188\n",
       "cat__age_group_Young         1484.969306\n",
       "std__age                     1424.894139\n",
       "dtype: float64"
      ]
     },
     "execution_count": 38,
     "metadata": {},
     "output_type": "execute_result"
    }
   ],
   "source": [
    "sorted_feature_importance"
   ]
  },
  {
   "cell_type": "code",
   "execution_count": 39,
   "id": "2f44158e",
   "metadata": {},
   "outputs": [
    {
     "data": {
      "text/plain": [
       "<Figure size 800x600 with 0 Axes>"
      ]
     },
     "metadata": {},
     "output_type": "display_data"
    },
    {
     "data": {
      "image/png": "[encoded data removed]",
      "text/plain": [
       "<Figure size 1200x800 with 1 Axes>"
      ]
     },
     "metadata": {},
     "output_type": "display_data"
    }
   ],
   "source": [
    "# Convert the Series to a DataFrame\n",
    "df_importance = sorted_feature_importance.reset_index()\n",
    "df_importance.columns = ['feature', 'importance_score']\n",
    "\n",
    "# Create the plot\n",
    "plt.figure(figsize=(8, 6))\n",
    "\n",
    "# Create the horizontal bar plot\n",
    "plt.figure(figsize=(12, 8))\n",
    "bars = plt.barh(df_importance['feature'], df_importance['importance_score'])\n",
    "plt.xlabel('Feature Score (Importance Score)')\n",
    "plt.title(f'Top {best_N} Most Important Features (SelectKBest)')\n",
    "plt.gca().invert_yaxis()  # Highest score at the top\n",
    "\n",
    "# Add value labels on the bars\n",
    "for bar in bars:\n",
    "    width = bar.get_width()\n",
    "    plt.text(width, bar.get_y() + bar.get_height()/2, \n",
    "             f'{width:.2f}', \n",
    "             ha='left', va='center', fontweight='bold')\n",
    "\n",
    "plt.tight_layout()\n",
    "plt.show()"
   ]
  },
  {
   "cell_type": "code",
   "execution_count": 48,
   "id": "7f36ad87",
   "metadata": {},
   "outputs": [
    {
     "data": {
      "application/vnd.microsoft.datawrangler.viewer.v0+json": {
       "columns": [
        {
         "name": "income",
         "rawType": "int64",
         "type": "integer"
        },
        {
         "name": "count",
         "rawType": "int64",
         "type": "integer"
        }
       ],
       "ref": "80c9612b-d8ba-4658-926c-15e0079e7274",
       "rows": [
        [
         "0",
         "18097"
        ],
        [
         "1",
         "5885"
        ]
       ],
       "shape": {
        "columns": 1,
        "rows": 2
       }
      },
      "text/plain": [
       "income\n",
       "0    18097\n",
       "1     5885\n",
       "Name: count, dtype: int64"
      ]
     },
     "execution_count": 48,
     "metadata": {},
     "output_type": "execute_result"
    }
   ],
   "source": [
    "y_train.value_counts()"
   ]
  },
  {
   "cell_type": "code",
   "execution_count": 49,
   "id": "e89f1fbc",
   "metadata": {},
   "outputs": [
    {
     "data": {
      "application/vnd.microsoft.datawrangler.viewer.v0+json": {
       "columns": [
        {
         "name": "index",
         "rawType": "int64",
         "type": "integer"
        },
        {
         "name": "std__age",
         "rawType": "float64",
         "type": "float"
        },
        {
         "name": "minmax__net.capital",
         "rawType": "float64",
         "type": "float"
        },
        {
         "name": "minmax__capital.gain.log",
         "rawType": "float64",
         "type": "float"
        },
        {
         "name": "minmax__education.num",
         "rawType": "float64",
         "type": "float"
        },
        {
         "name": "bin__is_single_parent",
         "rawType": "float64",
         "type": "float"
        },
        {
         "name": "cat__relationship_Married",
         "rawType": "float64",
         "type": "float"
        },
        {
         "name": "cat__age_group_Young",
         "rawType": "float64",
         "type": "float"
        }
       ],
       "ref": "a42c2675-05e4-4575-ba53-730fb56f7ffd",
       "rows": [
        [
         "0",
         "0.6546394154666272",
         "0.03536473965809735",
         "0.0",
         "0.8",
         "0.0",
         "1.0",
         "0.0"
        ],
        [
         "1",
         "0.04525827627172566",
         "0.09213101918308755",
         "0.0",
         "0.8666666666666667",
         "0.0",
         "1.0",
         "0.0"
        ],
        [
         "2",
         "-0.48795022052381315",
         "0.09213101918308755",
         "0.0",
         "0.6",
         "1.0",
         "0.0",
         "0.0"
        ],
        [
         "3",
         "0.42612148826853913",
         "0.09213101918308755",
         "0.0",
         "0.5333333333333333",
         "0.0",
         "1.0",
         "0.0"
        ],
        [
         "4",
         "-1.0973313597187146",
         "0.09213101918308755",
         "0.0",
         "0.6666666666666666",
         "1.0",
         "0.0",
         "1.0"
        ],
        [
         "5",
         "1.187847912262166",
         "0.09213101918308755",
         "0.0",
         "0.7333333333333334",
         "0.0",
         "1.0",
         "0.0"
        ],
        [
         "6",
         "-0.4117775781244505",
         "0.5822784810126582",
         "0.9397720183113959",
         "0.8666666666666667",
         "0.0",
         "1.0",
         "0.0"
        ],
        [
         "7",
         "0.8069847002653525",
         "0.09213101918308755",
         "0.0",
         "0.5333333333333333",
         "0.0",
         "1.0",
         "0.0"
        ],
        [
         "8",
         "-0.2594322933257251",
         "0.09213101918308755",
         "0.0",
         "0.5333333333333333",
         "0.0",
         "1.0",
         "0.0"
        ],
        [
         "9",
         "-0.6402955053225385",
         "0.09213101918308755",
         "0.0",
         "0.5333333333333333",
         "0.0",
         "1.0",
         "0.0"
        ]
       ],
       "shape": {
        "columns": 7,
        "rows": 10
       }
      },
      "text/html": [
       "<div>\n",
       "<style scoped>\n",
       "    .dataframe tbody tr th:only-of-type {\n",
       "        vertical-align: middle;\n",
       "    }\n",
       "\n",
       "    .dataframe tbody tr th {\n",
       "        vertical-align: top;\n",
       "    }\n",
       "\n",
       "    .dataframe thead th {\n",
       "        text-align: right;\n",
       "    }\n",
       "</style>\n",
       "<table border=\"1\" class=\"dataframe\">\n",
       "  <thead>\n",
       "    <tr style=\"text-align: right;\">\n",
       "      <th></th>\n",
       "      <th>std__age</th>\n",
       "      <th>minmax__net.capital</th>\n",
       "      <th>minmax__capital.gain.log</th>\n",
       "      <th>minmax__education.num</th>\n",
       "      <th>bin__is_single_parent</th>\n",
       "      <th>cat__relationship_Married</th>\n",
       "      <th>cat__age_group_Young</th>\n",
       "    </tr>\n",
       "  </thead>\n",
       "  <tbody>\n",
       "    <tr>\n",
       "      <th>0</th>\n",
       "      <td>0.654639</td>\n",
       "      <td>0.035365</td>\n",
       "      <td>0.000000</td>\n",
       "      <td>0.800000</td>\n",
       "      <td>0.0</td>\n",
       "      <td>1.0</td>\n",
       "      <td>0.0</td>\n",
       "    </tr>\n",
       "    <tr>\n",
       "      <th>1</th>\n",
       "      <td>0.045258</td>\n",
       "      <td>0.092131</td>\n",
       "      <td>0.000000</td>\n",
       "      <td>0.866667</td>\n",
       "      <td>0.0</td>\n",
       "      <td>1.0</td>\n",
       "      <td>0.0</td>\n",
       "    </tr>\n",
       "    <tr>\n",
       "      <th>2</th>\n",
       "      <td>-0.487950</td>\n",
       "      <td>0.092131</td>\n",
       "      <td>0.000000</td>\n",
       "      <td>0.600000</td>\n",
       "      <td>1.0</td>\n",
       "      <td>0.0</td>\n",
       "      <td>0.0</td>\n",
       "    </tr>\n",
       "    <tr>\n",
       "      <th>3</th>\n",
       "      <td>0.426121</td>\n",
       "      <td>0.092131</td>\n",
       "      <td>0.000000</td>\n",
       "      <td>0.533333</td>\n",
       "      <td>0.0</td>\n",
       "      <td>1.0</td>\n",
       "      <td>0.0</td>\n",
       "    </tr>\n",
       "    <tr>\n",
       "      <th>4</th>\n",
       "      <td>-1.097331</td>\n",
       "      <td>0.092131</td>\n",
       "      <td>0.000000</td>\n",
       "      <td>0.666667</td>\n",
       "      <td>1.0</td>\n",
       "      <td>0.0</td>\n",
       "      <td>1.0</td>\n",
       "    </tr>\n",
       "    <tr>\n",
       "      <th>5</th>\n",
       "      <td>1.187848</td>\n",
       "      <td>0.092131</td>\n",
       "      <td>0.000000</td>\n",
       "      <td>0.733333</td>\n",
       "      <td>0.0</td>\n",
       "      <td>1.0</td>\n",
       "      <td>0.0</td>\n",
       "    </tr>\n",
       "    <tr>\n",
       "      <th>6</th>\n",
       "      <td>-0.411778</td>\n",
       "      <td>0.582278</td>\n",
       "      <td>0.939772</td>\n",
       "      <td>0.866667</td>\n",
       "      <td>0.0</td>\n",
       "      <td>1.0</td>\n",
       "      <td>0.0</td>\n",
       "    </tr>\n",
       "    <tr>\n",
       "      <th>7</th>\n",
       "      <td>0.806985</td>\n",
       "      <td>0.092131</td>\n",
       "      <td>0.000000</td>\n",
       "      <td>0.533333</td>\n",
       "      <td>0.0</td>\n",
       "      <td>1.0</td>\n",
       "      <td>0.0</td>\n",
       "    </tr>\n",
       "    <tr>\n",
       "      <th>8</th>\n",
       "      <td>-0.259432</td>\n",
       "      <td>0.092131</td>\n",
       "      <td>0.000000</td>\n",
       "      <td>0.533333</td>\n",
       "      <td>0.0</td>\n",
       "      <td>1.0</td>\n",
       "      <td>0.0</td>\n",
       "    </tr>\n",
       "    <tr>\n",
       "      <th>9</th>\n",
       "      <td>-0.640296</td>\n",
       "      <td>0.092131</td>\n",
       "      <td>0.000000</td>\n",
       "      <td>0.533333</td>\n",
       "      <td>0.0</td>\n",
       "      <td>1.0</td>\n",
       "      <td>0.0</td>\n",
       "    </tr>\n",
       "  </tbody>\n",
       "</table>\n",
       "</div>"
      ],
      "text/plain": [
       "   std__age  minmax__net.capital  minmax__capital.gain.log  \\\n",
       "0  0.654639             0.035365                  0.000000   \n",
       "1  0.045258             0.092131                  0.000000   \n",
       "2 -0.487950             0.092131                  0.000000   \n",
       "3  0.426121             0.092131                  0.000000   \n",
       "4 -1.097331             0.092131                  0.000000   \n",
       "5  1.187848             0.092131                  0.000000   \n",
       "6 -0.411778             0.582278                  0.939772   \n",
       "7  0.806985             0.092131                  0.000000   \n",
       "8 -0.259432             0.092131                  0.000000   \n",
       "9 -0.640296             0.092131                  0.000000   \n",
       "\n",
       "   minmax__education.num  bin__is_single_parent  cat__relationship_Married  \\\n",
       "0               0.800000                    0.0                        1.0   \n",
       "1               0.866667                    0.0                        1.0   \n",
       "2               0.600000                    1.0                        0.0   \n",
       "3               0.533333                    0.0                        1.0   \n",
       "4               0.666667                    1.0                        0.0   \n",
       "5               0.733333                    0.0                        1.0   \n",
       "6               0.866667                    0.0                        1.0   \n",
       "7               0.533333                    0.0                        1.0   \n",
       "8               0.533333                    0.0                        1.0   \n",
       "9               0.533333                    0.0                        1.0   \n",
       "\n",
       "   cat__age_group_Young  \n",
       "0                   0.0  \n",
       "1                   0.0  \n",
       "2                   0.0  \n",
       "3                   0.0  \n",
       "4                   1.0  \n",
       "5                   0.0  \n",
       "6                   0.0  \n",
       "7                   0.0  \n",
       "8                   0.0  \n",
       "9                   0.0  "
      ]
     },
     "execution_count": 49,
     "metadata": {},
     "output_type": "execute_result"
    }
   ],
   "source": [
    "X_train_df = pd.DataFrame(\n",
    "    X_train_sel, \n",
    "    columns=selected_feature_names\n",
    ")\n",
    "X_train_df.head(10)"
   ]
  },
  {
   "cell_type": "markdown",
   "id": "5e951dca",
   "metadata": {},
   "source": [
    "# SMOTE-NC"
   ]
  },
  {
   "cell_type": "code",
   "execution_count": 50,
   "id": "015f0bf4",
   "metadata": {},
   "outputs": [],
   "source": [
    "from imblearn.over_sampling import SMOTENC\n",
    "\n",
    "smotenc = SMOTENC(categorical_features=[4, 5, 6], random_state=42)"
   ]
  },
  {
   "cell_type": "code",
   "execution_count": 51,
   "id": "2bbe7236",
   "metadata": {},
   "outputs": [],
   "source": [
    "X_train_res, y_train_res = smotenc.fit_resample(X_train_sel, y_train)"
   ]
  },
  {
   "cell_type": "code",
   "execution_count": 52,
   "id": "d5b2426e",
   "metadata": {},
   "outputs": [
    {
     "data": {
      "application/vnd.microsoft.datawrangler.viewer.v0+json": {
       "columns": [
        {
         "name": "income",
         "rawType": "int64",
         "type": "integer"
        },
        {
         "name": "count",
         "rawType": "int64",
         "type": "integer"
        }
       ],
       "ref": "0bd7c19c-f33c-4cd6-9259-ac093db01267",
       "rows": [
        [
         "0",
         "18097"
        ],
        [
         "1",
         "18097"
        ]
       ],
       "shape": {
        "columns": 1,
        "rows": 2
       }
      },
      "text/plain": [
       "income\n",
       "0    18097\n",
       "1    18097\n",
       "Name: count, dtype: int64"
      ]
     },
     "execution_count": 52,
     "metadata": {},
     "output_type": "execute_result"
    }
   ],
   "source": [
    "y_train_res.value_counts()"
   ]
  },
  {
   "cell_type": "code",
   "execution_count": 53,
   "id": "a0c4b9d5",
   "metadata": {},
   "outputs": [
    {
     "data": {
      "text/plain": [
       "['artifacts/final_census_data.pkl']"
      ]
     },
     "execution_count": 53,
     "metadata": {},
     "output_type": "execute_result"
    }
   ],
   "source": [
    "import joblib\n",
    "\n",
    "# Save final datasets\n",
    "joblib.dump((X_train_res, X_test_sel, y_train_res, y_test), 'artifacts/final_census_data.pkl')"
   ]
  }
 ],
 "metadata": {
  "kernelspec": {
   "display_name": "base",
   "language": "python",
   "name": "python3"
  },
  "language_info": {
   "codemirror_mode": {
    "name": "ipython",
    "version": 3
   },
   "file_extension": ".py",
   "mimetype": "text/x-python",
   "name": "python",
   "nbconvert_exporter": "python",
   "pygments_lexer": "ipython3",
   "version": "3.12.4"
  }
 },
 "nbformat": 4,
 "nbformat_minor": 5
}
