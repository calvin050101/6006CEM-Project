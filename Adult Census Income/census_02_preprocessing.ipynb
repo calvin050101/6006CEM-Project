{
 "cells": [
  {
   "cell_type": "code",
   "execution_count": 1,
   "id": "0f82c90c",
   "metadata": {},
   "outputs": [],
   "source": [
    "import pandas as pd\n",
    "import numpy as np\n",
    "import matplotlib.pyplot as plt\n",
    "import seaborn as sns"
   ]
  },
  {
   "cell_type": "code",
   "execution_count": 2,
   "id": "5e7571a9",
   "metadata": {},
   "outputs": [],
   "source": [
    "df = pd.read_csv('artifacts/adult_cleaned.csv')"
   ]
  },
  {
   "cell_type": "code",
   "execution_count": 3,
   "id": "3efcf1d6",
   "metadata": {},
   "outputs": [
    {
     "data": {
      "application/vnd.microsoft.datawrangler.viewer.v0+json": {
       "columns": [
        {
         "name": "index",
         "rawType": "int64",
         "type": "integer"
        },
        {
         "name": "age",
         "rawType": "int64",
         "type": "integer"
        },
        {
         "name": "workclass",
         "rawType": "object",
         "type": "string"
        },
        {
         "name": "fnlwgt",
         "rawType": "int64",
         "type": "integer"
        },
        {
         "name": "education",
         "rawType": "object",
         "type": "string"
        },
        {
         "name": "education.num",
         "rawType": "int64",
         "type": "integer"
        },
        {
         "name": "marital.status",
         "rawType": "object",
         "type": "string"
        },
        {
         "name": "occupation",
         "rawType": "object",
         "type": "string"
        },
        {
         "name": "relationship",
         "rawType": "object",
         "type": "string"
        },
        {
         "name": "race",
         "rawType": "object",
         "type": "string"
        },
        {
         "name": "sex",
         "rawType": "int64",
         "type": "integer"
        },
        {
         "name": "capital.gain",
         "rawType": "int64",
         "type": "integer"
        },
        {
         "name": "capital.loss",
         "rawType": "int64",
         "type": "integer"
        },
        {
         "name": "hours.per.week",
         "rawType": "int64",
         "type": "integer"
        },
        {
         "name": "native.country",
         "rawType": "object",
         "type": "string"
        },
        {
         "name": "income",
         "rawType": "int64",
         "type": "integer"
        }
       ],
       "ref": "93517d91-8536-4e95-b40c-05959b320e10",
       "rows": [
        [
         "0",
         "44",
         "Private",
         "162028",
         "Some-college",
         "10",
         "Married-civ-spouse",
         "Adm-clerical",
         "Wife",
         "White",
         "0",
         "0",
         "2415",
         "6",
         "United-States",
         "1"
        ],
        [
         "1",
         "51",
         "Self-emp-not-inc",
         "160724",
         "Bachelors",
         "13",
         "Married-civ-spouse",
         "Sales",
         "Husband",
         "Asian-Pac-Islander",
         "1",
         "0",
         "2415",
         "40",
         "Non-US",
         "1"
        ],
        [
         "2",
         "41",
         "Private",
         "132222",
         "Prof-school",
         "15",
         "Married-civ-spouse",
         "Prof-specialty",
         "Husband",
         "White",
         "1",
         "0",
         "2415",
         "40",
         "United-States",
         "1"
        ],
        [
         "3",
         "37",
         "Private",
         "329980",
         "Masters",
         "14",
         "Married-civ-spouse",
         "Exec-managerial",
         "Husband",
         "White",
         "1",
         "0",
         "2415",
         "60",
         "United-States",
         "1"
        ],
        [
         "4",
         "55",
         "Self-emp-inc",
         "124137",
         "Prof-school",
         "15",
         "Married-civ-spouse",
         "Prof-specialty",
         "Husband",
         "White",
         "1",
         "0",
         "2415",
         "35",
         "Non-US",
         "1"
        ]
       ],
       "shape": {
        "columns": 15,
        "rows": 5
       }
      },
      "text/html": [
       "<div>\n",
       "<style scoped>\n",
       "    .dataframe tbody tr th:only-of-type {\n",
       "        vertical-align: middle;\n",
       "    }\n",
       "\n",
       "    .dataframe tbody tr th {\n",
       "        vertical-align: top;\n",
       "    }\n",
       "\n",
       "    .dataframe thead th {\n",
       "        text-align: right;\n",
       "    }\n",
       "</style>\n",
       "<table border=\"1\" class=\"dataframe\">\n",
       "  <thead>\n",
       "    <tr style=\"text-align: right;\">\n",
       "      <th></th>\n",
       "      <th>age</th>\n",
       "      <th>workclass</th>\n",
       "      <th>fnlwgt</th>\n",
       "      <th>education</th>\n",
       "      <th>education.num</th>\n",
       "      <th>marital.status</th>\n",
       "      <th>occupation</th>\n",
       "      <th>relationship</th>\n",
       "      <th>race</th>\n",
       "      <th>sex</th>\n",
       "      <th>capital.gain</th>\n",
       "      <th>capital.loss</th>\n",
       "      <th>hours.per.week</th>\n",
       "      <th>native.country</th>\n",
       "      <th>income</th>\n",
       "    </tr>\n",
       "  </thead>\n",
       "  <tbody>\n",
       "    <tr>\n",
       "      <th>0</th>\n",
       "      <td>44</td>\n",
       "      <td>Private</td>\n",
       "      <td>162028</td>\n",
       "      <td>Some-college</td>\n",
       "      <td>10</td>\n",
       "      <td>Married-civ-spouse</td>\n",
       "      <td>Adm-clerical</td>\n",
       "      <td>Wife</td>\n",
       "      <td>White</td>\n",
       "      <td>0</td>\n",
       "      <td>0</td>\n",
       "      <td>2415</td>\n",
       "      <td>6</td>\n",
       "      <td>United-States</td>\n",
       "      <td>1</td>\n",
       "    </tr>\n",
       "    <tr>\n",
       "      <th>1</th>\n",
       "      <td>51</td>\n",
       "      <td>Self-emp-not-inc</td>\n",
       "      <td>160724</td>\n",
       "      <td>Bachelors</td>\n",
       "      <td>13</td>\n",
       "      <td>Married-civ-spouse</td>\n",
       "      <td>Sales</td>\n",
       "      <td>Husband</td>\n",
       "      <td>Asian-Pac-Islander</td>\n",
       "      <td>1</td>\n",
       "      <td>0</td>\n",
       "      <td>2415</td>\n",
       "      <td>40</td>\n",
       "      <td>Non-US</td>\n",
       "      <td>1</td>\n",
       "    </tr>\n",
       "    <tr>\n",
       "      <th>2</th>\n",
       "      <td>41</td>\n",
       "      <td>Private</td>\n",
       "      <td>132222</td>\n",
       "      <td>Prof-school</td>\n",
       "      <td>15</td>\n",
       "      <td>Married-civ-spouse</td>\n",
       "      <td>Prof-specialty</td>\n",
       "      <td>Husband</td>\n",
       "      <td>White</td>\n",
       "      <td>1</td>\n",
       "      <td>0</td>\n",
       "      <td>2415</td>\n",
       "      <td>40</td>\n",
       "      <td>United-States</td>\n",
       "      <td>1</td>\n",
       "    </tr>\n",
       "    <tr>\n",
       "      <th>3</th>\n",
       "      <td>37</td>\n",
       "      <td>Private</td>\n",
       "      <td>329980</td>\n",
       "      <td>Masters</td>\n",
       "      <td>14</td>\n",
       "      <td>Married-civ-spouse</td>\n",
       "      <td>Exec-managerial</td>\n",
       "      <td>Husband</td>\n",
       "      <td>White</td>\n",
       "      <td>1</td>\n",
       "      <td>0</td>\n",
       "      <td>2415</td>\n",
       "      <td>60</td>\n",
       "      <td>United-States</td>\n",
       "      <td>1</td>\n",
       "    </tr>\n",
       "    <tr>\n",
       "      <th>4</th>\n",
       "      <td>55</td>\n",
       "      <td>Self-emp-inc</td>\n",
       "      <td>124137</td>\n",
       "      <td>Prof-school</td>\n",
       "      <td>15</td>\n",
       "      <td>Married-civ-spouse</td>\n",
       "      <td>Prof-specialty</td>\n",
       "      <td>Husband</td>\n",
       "      <td>White</td>\n",
       "      <td>1</td>\n",
       "      <td>0</td>\n",
       "      <td>2415</td>\n",
       "      <td>35</td>\n",
       "      <td>Non-US</td>\n",
       "      <td>1</td>\n",
       "    </tr>\n",
       "  </tbody>\n",
       "</table>\n",
       "</div>"
      ],
      "text/plain": [
       "   age         workclass  fnlwgt     education  education.num  \\\n",
       "0   44           Private  162028  Some-college             10   \n",
       "1   51  Self-emp-not-inc  160724     Bachelors             13   \n",
       "2   41           Private  132222   Prof-school             15   \n",
       "3   37           Private  329980       Masters             14   \n",
       "4   55      Self-emp-inc  124137   Prof-school             15   \n",
       "\n",
       "       marital.status       occupation relationship                race  sex  \\\n",
       "0  Married-civ-spouse     Adm-clerical         Wife               White    0   \n",
       "1  Married-civ-spouse            Sales      Husband  Asian-Pac-Islander    1   \n",
       "2  Married-civ-spouse   Prof-specialty      Husband               White    1   \n",
       "3  Married-civ-spouse  Exec-managerial      Husband               White    1   \n",
       "4  Married-civ-spouse   Prof-specialty      Husband               White    1   \n",
       "\n",
       "   capital.gain  capital.loss  hours.per.week native.country  income  \n",
       "0             0          2415               6  United-States       1  \n",
       "1             0          2415              40         Non-US       1  \n",
       "2             0          2415              40  United-States       1  \n",
       "3             0          2415              60  United-States       1  \n",
       "4             0          2415              35         Non-US       1  "
      ]
     },
     "execution_count": 3,
     "metadata": {},
     "output_type": "execute_result"
    }
   ],
   "source": [
    "df.head()"
   ]
  },
  {
   "cell_type": "markdown",
   "id": "aed0acdc",
   "metadata": {},
   "source": [
    "# Feature Engineering"
   ]
  },
  {
   "cell_type": "code",
   "execution_count": 4,
   "id": "9b43b496",
   "metadata": {},
   "outputs": [
    {
     "data": {
      "application/vnd.microsoft.datawrangler.viewer.v0+json": {
       "columns": [
        {
         "name": "index",
         "rawType": "object",
         "type": "string"
        },
        {
         "name": "0",
         "rawType": "object",
         "type": "unknown"
        }
       ],
       "ref": "276aef9b-b791-4614-bc1b-c4d7220580b2",
       "rows": [
        [
         "age",
         "int64"
        ],
        [
         "workclass",
         "object"
        ],
        [
         "fnlwgt",
         "int64"
        ],
        [
         "education",
         "object"
        ],
        [
         "education.num",
         "int64"
        ],
        [
         "marital.status",
         "object"
        ],
        [
         "occupation",
         "object"
        ],
        [
         "relationship",
         "object"
        ],
        [
         "race",
         "object"
        ],
        [
         "sex",
         "int64"
        ],
        [
         "capital.gain",
         "int64"
        ],
        [
         "capital.loss",
         "int64"
        ],
        [
         "hours.per.week",
         "int64"
        ],
        [
         "native.country",
         "object"
        ],
        [
         "income",
         "int64"
        ]
       ],
       "shape": {
        "columns": 1,
        "rows": 15
       }
      },
      "text/plain": [
       "age                int64\n",
       "workclass         object\n",
       "fnlwgt             int64\n",
       "education         object\n",
       "education.num      int64\n",
       "marital.status    object\n",
       "occupation        object\n",
       "relationship      object\n",
       "race              object\n",
       "sex                int64\n",
       "capital.gain       int64\n",
       "capital.loss       int64\n",
       "hours.per.week     int64\n",
       "native.country    object\n",
       "income             int64\n",
       "dtype: object"
      ]
     },
     "execution_count": 4,
     "metadata": {},
     "output_type": "execute_result"
    }
   ],
   "source": [
    "df.dtypes"
   ]
  },
  {
   "cell_type": "code",
   "execution_count": 5,
   "id": "2b2e89b2",
   "metadata": {},
   "outputs": [],
   "source": [
    "df[\"net.capital\"] = df[\"capital.gain\"] - df[\"capital.loss\"]"
   ]
  },
  {
   "cell_type": "code",
   "execution_count": 6,
   "id": "6b10383b",
   "metadata": {},
   "outputs": [
    {
     "data": {
      "image/png": "[encoded data removed]",
      "text/plain": [
       "<Figure size 640x480 with 1 Axes>"
      ]
     },
     "metadata": {},
     "output_type": "display_data"
    }
   ],
   "source": [
    "sns.histplot(df[\"net.capital\"], kde=True, bins=30)\n",
    "plt.show()"
   ]
  },
  {
   "cell_type": "code",
   "execution_count": 7,
   "id": "47653424",
   "metadata": {},
   "outputs": [],
   "source": [
    "df[\"capital.gain.log\"] = np.log1p(df[\"capital.gain\"])\n",
    "df[\"capital.loss.log\"] = np.log1p(df[\"capital.loss\"])"
   ]
  },
  {
   "cell_type": "code",
   "execution_count": 8,
   "id": "5a973167",
   "metadata": {},
   "outputs": [],
   "source": [
    "# Create age_group feature\n",
    "df['age_group'] = pd.cut(\n",
    "    df['age'], \n",
    "    bins=[0, 25, 50, 75, 100], \n",
    "    labels=['Young', 'Adult', 'Senior', 'Very Senior'], \n",
    "    right=False\n",
    ")\n",
    "\n",
    "# Create hours_per_week_group feature\n",
    "df['hours_per_week_group'] = pd.cut(\n",
    "    df['hours.per.week'], \n",
    "    bins=[0, 30, 45, 60, 1000], \n",
    "    labels=['Part-time', 'Full-time', 'Overtime', 'Very Overtime'], \n",
    "    right=False\n",
    ")"
   ]
  },
  {
   "cell_type": "code",
   "execution_count": 9,
   "id": "27a2ff3c",
   "metadata": {},
   "outputs": [
    {
     "data": {
      "application/vnd.microsoft.datawrangler.viewer.v0+json": {
       "columns": [
        {
         "name": "index",
         "rawType": "int64",
         "type": "integer"
        },
        {
         "name": "age",
         "rawType": "int64",
         "type": "integer"
        },
        {
         "name": "age_group",
         "rawType": "category",
         "type": "unknown"
        },
        {
         "name": "hours.per.week",
         "rawType": "int64",
         "type": "integer"
        },
        {
         "name": "hours_per_week_group",
         "rawType": "category",
         "type": "unknown"
        }
       ],
       "ref": "fac1fb24-ea0e-47a1-a1b2-5849b829442f",
       "rows": [
        [
         "0",
         "44",
         "Adult",
         "6",
         "Part-time"
        ],
        [
         "1",
         "51",
         "Senior",
         "40",
         "Full-time"
        ],
        [
         "2",
         "41",
         "Adult",
         "40",
         "Full-time"
        ],
        [
         "3",
         "37",
         "Adult",
         "60",
         "Very Overtime"
        ],
        [
         "4",
         "55",
         "Senior",
         "35",
         "Full-time"
        ]
       ],
       "shape": {
        "columns": 4,
        "rows": 5
       }
      },
      "text/html": [
       "<div>\n",
       "<style scoped>\n",
       "    .dataframe tbody tr th:only-of-type {\n",
       "        vertical-align: middle;\n",
       "    }\n",
       "\n",
       "    .dataframe tbody tr th {\n",
       "        vertical-align: top;\n",
       "    }\n",
       "\n",
       "    .dataframe thead th {\n",
       "        text-align: right;\n",
       "    }\n",
       "</style>\n",
       "<table border=\"1\" class=\"dataframe\">\n",
       "  <thead>\n",
       "    <tr style=\"text-align: right;\">\n",
       "      <th></th>\n",
       "      <th>age</th>\n",
       "      <th>age_group</th>\n",
       "      <th>hours.per.week</th>\n",
       "      <th>hours_per_week_group</th>\n",
       "    </tr>\n",
       "  </thead>\n",
       "  <tbody>\n",
       "    <tr>\n",
       "      <th>0</th>\n",
       "      <td>44</td>\n",
       "      <td>Adult</td>\n",
       "      <td>6</td>\n",
       "      <td>Part-time</td>\n",
       "    </tr>\n",
       "    <tr>\n",
       "      <th>1</th>\n",
       "      <td>51</td>\n",
       "      <td>Senior</td>\n",
       "      <td>40</td>\n",
       "      <td>Full-time</td>\n",
       "    </tr>\n",
       "    <tr>\n",
       "      <th>2</th>\n",
       "      <td>41</td>\n",
       "      <td>Adult</td>\n",
       "      <td>40</td>\n",
       "      <td>Full-time</td>\n",
       "    </tr>\n",
       "    <tr>\n",
       "      <th>3</th>\n",
       "      <td>37</td>\n",
       "      <td>Adult</td>\n",
       "      <td>60</td>\n",
       "      <td>Very Overtime</td>\n",
       "    </tr>\n",
       "    <tr>\n",
       "      <th>4</th>\n",
       "      <td>55</td>\n",
       "      <td>Senior</td>\n",
       "      <td>35</td>\n",
       "      <td>Full-time</td>\n",
       "    </tr>\n",
       "  </tbody>\n",
       "</table>\n",
       "</div>"
      ],
      "text/plain": [
       "   age age_group  hours.per.week hours_per_week_group\n",
       "0   44     Adult               6            Part-time\n",
       "1   51    Senior              40            Full-time\n",
       "2   41     Adult              40            Full-time\n",
       "3   37     Adult              60        Very Overtime\n",
       "4   55    Senior              35            Full-time"
      ]
     },
     "execution_count": 9,
     "metadata": {},
     "output_type": "execute_result"
    }
   ],
   "source": [
    "df[['age', 'age_group', 'hours.per.week', 'hours_per_week_group']].head()"
   ]
  },
  {
   "cell_type": "code",
   "execution_count": 10,
   "id": "d7c4bd7b",
   "metadata": {},
   "outputs": [
    {
     "data": {
      "application/vnd.microsoft.datawrangler.viewer.v0+json": {
       "columns": [
        {
         "name": "education",
         "rawType": "object",
         "type": "string"
        },
        {
         "name": "count",
         "rawType": "int64",
         "type": "integer"
        }
       ],
       "ref": "19af7405-b9ab-4a04-8c88-aa3b685cfd28",
       "rows": [
        [
         "HighSchool-Grad",
         "9790"
        ],
        [
         "SomeCollege",
         "6655"
        ],
        [
         "Bachelors",
         "4989"
        ],
        [
         "Graduate",
         "2451"
        ],
        [
         "Associates",
         "2305"
        ],
        [
         "HighSchool-NoDiploma",
         "2234"
        ],
        [
         "MiddleSchool",
         "1008"
        ],
        [
         "EarlySchool",
         "481"
        ]
       ],
       "shape": {
        "columns": 1,
        "rows": 8
       }
      },
      "text/plain": [
       "education\n",
       "HighSchool-Grad         9790\n",
       "SomeCollege             6655\n",
       "Bachelors               4989\n",
       "Graduate                2451\n",
       "Associates              2305\n",
       "HighSchool-NoDiploma    2234\n",
       "MiddleSchool            1008\n",
       "EarlySchool              481\n",
       "Name: count, dtype: int64"
      ]
     },
     "execution_count": 10,
     "metadata": {},
     "output_type": "execute_result"
    }
   ],
   "source": [
    "education_map = {\n",
    "    'Preschool': 'EarlySchool',\n",
    "    '1st-4th': 'EarlySchool',\n",
    "    '5th-6th': 'EarlySchool',\n",
    "    '7th-8th': 'MiddleSchool',\n",
    "    '9th': 'MiddleSchool',\n",
    "    '10th': 'HighSchool-NoDiploma',\n",
    "    '11th': 'HighSchool-NoDiploma',\n",
    "    '12th': 'HighSchool-NoDiploma',\n",
    "    'HS-grad': 'HighSchool-Grad',\n",
    "    'Some-college': 'SomeCollege',\n",
    "    'Assoc-acdm': 'Associates',\n",
    "    'Assoc-voc': 'Associates',\n",
    "    'Bachelors': 'Bachelors',\n",
    "    'Masters': 'Graduate',\n",
    "    'Doctorate': 'Graduate',\n",
    "    'Prof-school': 'Graduate'\n",
    "}\n",
    "\n",
    "df['education'] = df['education'].map(education_map)\n",
    "df['education'].value_counts()"
   ]
  },
  {
   "cell_type": "code",
   "execution_count": 11,
   "id": "54cb1243",
   "metadata": {},
   "outputs": [],
   "source": [
    "df['workclass'] = df['workclass'].replace(['Self-emp-not-inc', 'Self-emp-inc'], 'Entrepreneur')\n",
    "df['workclass'] = df['workclass'].replace(['No_workclass'], 'Without-pay')\n",
    "\n",
    "df['relationship'] = df['relationship'].replace(['Husband', 'Wife'], 'Married')"
   ]
  },
  {
   "cell_type": "code",
   "execution_count": 12,
   "id": "42045304",
   "metadata": {},
   "outputs": [
    {
     "data": {
      "application/vnd.microsoft.datawrangler.viewer.v0+json": {
       "columns": [
        {
         "name": "relationship",
         "rawType": "object",
         "type": "string"
        },
        {
         "name": "count",
         "rawType": "int64",
         "type": "integer"
        }
       ],
       "ref": "264768b5-bd83-4290-a9cc-f804ea7c5aff",
       "rows": [
        [
         "Married",
         "13740"
        ],
        [
         "Not-in-family",
         "7662"
        ],
        [
         "Own-child",
         "4459"
        ],
        [
         "Unmarried",
         "3167"
        ],
        [
         "Other-relative",
         "885"
        ]
       ],
       "shape": {
        "columns": 1,
        "rows": 5
       }
      },
      "text/plain": [
       "relationship\n",
       "Married           13740\n",
       "Not-in-family      7662\n",
       "Own-child          4459\n",
       "Unmarried          3167\n",
       "Other-relative      885\n",
       "Name: count, dtype: int64"
      ]
     },
     "execution_count": 12,
     "metadata": {},
     "output_type": "execute_result"
    }
   ],
   "source": [
    "df['relationship'].value_counts()"
   ]
  },
  {
   "cell_type": "code",
   "execution_count": 13,
   "id": "a64711f7",
   "metadata": {},
   "outputs": [
    {
     "data": {
      "application/vnd.microsoft.datawrangler.viewer.v0+json": {
       "columns": [
        {
         "name": "marital.status",
         "rawType": "object",
         "type": "string"
        },
        {
         "name": "count",
         "rawType": "int64",
         "type": "integer"
        }
       ],
       "ref": "dbb40d2c-94a3-4285-b3ff-64a6f380b3e3",
       "rows": [
        [
         "Married-civ-spouse",
         "13934"
        ],
        [
         "Never-married",
         "9688"
        ],
        [
         "Divorced",
         "4160"
        ],
        [
         "Separated",
         "925"
        ],
        [
         "Widowed",
         "818"
        ],
        [
         "Married-spouse-absent",
         "367"
        ],
        [
         "Married-AF-spouse",
         "21"
        ]
       ],
       "shape": {
        "columns": 1,
        "rows": 7
       }
      },
      "text/plain": [
       "marital.status\n",
       "Married-civ-spouse       13934\n",
       "Never-married             9688\n",
       "Divorced                  4160\n",
       "Separated                  925\n",
       "Widowed                    818\n",
       "Married-spouse-absent      367\n",
       "Married-AF-spouse           21\n",
       "Name: count, dtype: int64"
      ]
     },
     "execution_count": 13,
     "metadata": {},
     "output_type": "execute_result"
    }
   ],
   "source": [
    "df['marital.status'].value_counts()"
   ]
  },
  {
   "cell_type": "code",
   "execution_count": 14,
   "id": "76e3a0f4",
   "metadata": {},
   "outputs": [],
   "source": [
    "df[\"is_single_parent\"] = (\n",
    "    (df[\"relationship\"].isin([\"Own-child\", \"Other-relative\"])) &\n",
    "    (~df[\"marital.status\"].str.contains(\"Married\"))\n",
    ").astype(int)"
   ]
  },
  {
   "cell_type": "code",
   "execution_count": 15,
   "id": "0a4171dd",
   "metadata": {},
   "outputs": [
    {
     "data": {
      "application/vnd.microsoft.datawrangler.viewer.v0+json": {
       "columns": [
        {
         "name": "is_single_parent",
         "rawType": "int32",
         "type": "integer"
        },
        {
         "name": "count",
         "rawType": "int64",
         "type": "integer"
        }
       ],
       "ref": "87f17288-0efa-4de3-a457-79f135272795",
       "rows": [
        [
         "0",
         "24840"
        ],
        [
         "1",
         "5073"
        ]
       ],
       "shape": {
        "columns": 1,
        "rows": 2
       }
      },
      "text/plain": [
       "is_single_parent\n",
       "0    24840\n",
       "1     5073\n",
       "Name: count, dtype: int64"
      ]
     },
     "execution_count": 15,
     "metadata": {},
     "output_type": "execute_result"
    }
   ],
   "source": [
    "df[\"is_single_parent\"].value_counts()"
   ]
  },
  {
   "cell_type": "code",
   "execution_count": 16,
   "id": "4ee5aa5b",
   "metadata": {},
   "outputs": [
    {
     "data": {
      "application/vnd.microsoft.datawrangler.viewer.v0+json": {
       "columns": [
        {
         "name": "native.country",
         "rawType": "object",
         "type": "string"
        },
        {
         "name": "count",
         "rawType": "int64",
         "type": "integer"
        }
       ],
       "ref": "5a3fc54a-819e-46cf-a454-1469ed502e35",
       "rows": [
        [
         "United-States",
         "27272"
        ],
        [
         "Non-US",
         "2641"
        ]
       ],
       "shape": {
        "columns": 1,
        "rows": 2
       }
      },
      "text/plain": [
       "native.country\n",
       "United-States    27272\n",
       "Non-US            2641\n",
       "Name: count, dtype: int64"
      ]
     },
     "execution_count": 16,
     "metadata": {},
     "output_type": "execute_result"
    }
   ],
   "source": [
    "df['native.country'].value_counts()"
   ]
  },
  {
   "cell_type": "code",
   "execution_count": 17,
   "id": "1d9c6e3e",
   "metadata": {},
   "outputs": [
    {
     "data": {
      "application/vnd.microsoft.datawrangler.viewer.v0+json": {
       "columns": [
        {
         "name": "is_US",
         "rawType": "int32",
         "type": "integer"
        },
        {
         "name": "count",
         "rawType": "int64",
         "type": "integer"
        }
       ],
       "ref": "6b0b6c76-d188-4d06-b389-c526d6f9b1aa",
       "rows": [
        [
         "1",
         "27272"
        ],
        [
         "0",
         "2641"
        ]
       ],
       "shape": {
        "columns": 1,
        "rows": 2
       }
      },
      "text/plain": [
       "is_US\n",
       "1    27272\n",
       "0     2641\n",
       "Name: count, dtype: int64"
      ]
     },
     "execution_count": 17,
     "metadata": {},
     "output_type": "execute_result"
    }
   ],
   "source": [
    "df['is_US'] = (df['native.country'] == 'United-States').astype(int)\n",
    "df['is_US'].value_counts()"
   ]
  },
  {
   "cell_type": "code",
   "execution_count": 18,
   "id": "1e33bae0",
   "metadata": {},
   "outputs": [],
   "source": [
    "X = df.drop(columns=\"income\")\n",
    "y = df[\"income\"]"
   ]
  },
  {
   "cell_type": "code",
   "execution_count": 19,
   "id": "a539fa21",
   "metadata": {},
   "outputs": [
    {
     "data": {
      "text/plain": [
       "Index(['age', 'workclass', 'fnlwgt', 'education', 'education.num',\n",
       "       'marital.status', 'occupation', 'relationship', 'race', 'sex',\n",
       "       'capital.gain', 'capital.loss', 'hours.per.week', 'native.country',\n",
       "       'net.capital', 'capital.gain.log', 'capital.loss.log', 'age_group',\n",
       "       'hours_per_week_group', 'is_single_parent', 'is_US'],\n",
       "      dtype='object')"
      ]
     },
     "execution_count": 19,
     "metadata": {},
     "output_type": "execute_result"
    }
   ],
   "source": [
    "X.columns"
   ]
  },
  {
   "cell_type": "markdown",
   "id": "536c50f8",
   "metadata": {},
   "source": [
    "Remove fnlwgt as it doesn't really affect the outcome.\n",
    "\n",
    "Remove maritial status because it depends on relationship."
   ]
  },
  {
   "cell_type": "code",
   "execution_count": 20,
   "id": "53bbffb6",
   "metadata": {},
   "outputs": [
    {
     "data": {
      "application/vnd.microsoft.datawrangler.viewer.v0+json": {
       "columns": [
        {
         "name": "index",
         "rawType": "object",
         "type": "string"
        },
        {
         "name": "0",
         "rawType": "object",
         "type": "unknown"
        }
       ],
       "ref": "3bfc4290-607f-43d9-b3e7-060c666a5761",
       "rows": [
        [
         "age",
         "int64"
        ],
        [
         "workclass",
         "object"
        ],
        [
         "fnlwgt",
         "int64"
        ],
        [
         "education",
         "object"
        ],
        [
         "education.num",
         "int64"
        ],
        [
         "marital.status",
         "object"
        ],
        [
         "occupation",
         "object"
        ],
        [
         "relationship",
         "object"
        ],
        [
         "race",
         "object"
        ],
        [
         "sex",
         "int64"
        ],
        [
         "capital.gain",
         "int64"
        ],
        [
         "capital.loss",
         "int64"
        ],
        [
         "hours.per.week",
         "int64"
        ],
        [
         "native.country",
         "object"
        ],
        [
         "income",
         "int64"
        ],
        [
         "net.capital",
         "int64"
        ],
        [
         "capital.gain.log",
         "float64"
        ],
        [
         "capital.loss.log",
         "float64"
        ],
        [
         "age_group",
         "category"
        ],
        [
         "hours_per_week_group",
         "category"
        ],
        [
         "is_single_parent",
         "int32"
        ],
        [
         "is_US",
         "int32"
        ]
       ],
       "shape": {
        "columns": 1,
        "rows": 22
       }
      },
      "text/plain": [
       "age                        int64\n",
       "workclass                 object\n",
       "fnlwgt                     int64\n",
       "education                 object\n",
       "education.num              int64\n",
       "marital.status            object\n",
       "occupation                object\n",
       "relationship              object\n",
       "race                      object\n",
       "sex                        int64\n",
       "capital.gain               int64\n",
       "capital.loss               int64\n",
       "hours.per.week             int64\n",
       "native.country            object\n",
       "income                     int64\n",
       "net.capital                int64\n",
       "capital.gain.log         float64\n",
       "capital.loss.log         float64\n",
       "age_group               category\n",
       "hours_per_week_group    category\n",
       "is_single_parent           int32\n",
       "is_US                      int32\n",
       "dtype: object"
      ]
     },
     "execution_count": 20,
     "metadata": {},
     "output_type": "execute_result"
    }
   ],
   "source": [
    "df.dtypes"
   ]
  },
  {
   "cell_type": "code",
   "execution_count": 21,
   "id": "e5ea1a25",
   "metadata": {},
   "outputs": [],
   "source": [
    "# Use Ordinal Encoding for education\n",
    "education_order = [\n",
    "    'EarlySchool', \n",
    "    'MiddleSchool',\n",
    "    'HighSchool-NoDiploma',\n",
    "    'HighSchool-Grad',\n",
    "    'SomeCollege',\n",
    "    'Associates',\n",
    "    'Bachelors',\n",
    "    'Graduate'\n",
    "]"
   ]
  },
  {
   "cell_type": "code",
   "execution_count": 22,
   "id": "fc9b6ffc",
   "metadata": {},
   "outputs": [],
   "source": [
    "from sklearn.preprocessing import StandardScaler, MinMaxScaler, OneHotEncoder, OrdinalEncoder\n",
    "from sklearn.compose import ColumnTransformer\n",
    "\n",
    "standard_features = ['age', 'capital.gain.log', 'capital.loss.log', 'net.capital']\n",
    "minmax_features = ['hours.per.week']\n",
    "binary_features = [\"sex\", \"is_single_parent\", \"is_US\"]\n",
    "categorical_features = [\n",
    "    \"workclass\", \"occupation\", \"relationship\",\n",
    "    \"race\", \"age_group\", \"hours_per_week_group\"\n",
    "]\n",
    "ordinal_features = ['education']\n",
    "\n",
    "preprocessor = ColumnTransformer(\n",
    "    transformers=[\n",
    "        (\"std\", StandardScaler(), standard_features),\n",
    "        (\"minmax\", MinMaxScaler(), minmax_features),\n",
    "        (\"bin\", \"passthrough\", binary_features),\n",
    "        (\"cat\", OneHotEncoder(handle_unknown=\"ignore\"), categorical_features),\n",
    "        (\"ord\", OrdinalEncoder(categories=[education_order], dtype=int), ordinal_features)\n",
    "    ],\n",
    "    remainder=\"drop\"\n",
    ")"
   ]
  },
  {
   "cell_type": "markdown",
   "id": "6b5aa54f",
   "metadata": {},
   "source": [
    "# Splitting Dataset"
   ]
  },
  {
   "cell_type": "code",
   "execution_count": 23,
   "id": "bae4555a",
   "metadata": {},
   "outputs": [],
   "source": [
    "from sklearn.model_selection import train_test_split\n",
    "\n",
    "X_train, X_test, y_train, y_test = train_test_split(X, y, stratify=y, \n",
    "                                                    test_size=0.2, random_state=42)"
   ]
  },
  {
   "cell_type": "code",
   "execution_count": 24,
   "id": "3d052601",
   "metadata": {},
   "outputs": [],
   "source": [
    "X_train_transformed = preprocessor.fit_transform(X_train)\n",
    "X_test_transformed = preprocessor.transform(X_test)"
   ]
  },
  {
   "cell_type": "code",
   "execution_count": 25,
   "id": "387a965b",
   "metadata": {},
   "outputs": [
    {
     "data": {
      "text/plain": [
       "array(['std__age', 'std__capital.gain.log', 'std__capital.loss.log',\n",
       "       'std__net.capital', 'minmax__hours.per.week', 'bin__sex',\n",
       "       'bin__is_single_parent', 'bin__is_US',\n",
       "       'cat__workclass_Entrepreneur', 'cat__workclass_Federal-gov',\n",
       "       'cat__workclass_Local-gov', 'cat__workclass_Private',\n",
       "       'cat__workclass_State-gov', 'cat__workclass_Without-pay',\n",
       "       'cat__occupation_Adm-clerical', 'cat__occupation_Armed-Forces',\n",
       "       'cat__occupation_Craft-repair', 'cat__occupation_Exec-managerial',\n",
       "       'cat__occupation_Farming-fishing',\n",
       "       'cat__occupation_Handlers-cleaners',\n",
       "       'cat__occupation_Machine-op-inspct',\n",
       "       'cat__occupation_Other-service', 'cat__occupation_Priv-house-serv',\n",
       "       'cat__occupation_Prof-specialty',\n",
       "       'cat__occupation_Protective-serv', 'cat__occupation_Sales',\n",
       "       'cat__occupation_Tech-support', 'cat__occupation_Transport-moving',\n",
       "       'cat__relationship_Married', 'cat__relationship_Not-in-family',\n",
       "       'cat__relationship_Other-relative', 'cat__relationship_Own-child',\n",
       "       'cat__relationship_Unmarried', 'cat__race_Amer-Indian-Eskimo',\n",
       "       'cat__race_Asian-Pac-Islander', 'cat__race_Black',\n",
       "       'cat__race_Other', 'cat__race_White', 'cat__age_group_Adult',\n",
       "       'cat__age_group_Senior', 'cat__age_group_Very Senior',\n",
       "       'cat__age_group_Young', 'cat__hours_per_week_group_Full-time',\n",
       "       'cat__hours_per_week_group_Overtime',\n",
       "       'cat__hours_per_week_group_Part-time',\n",
       "       'cat__hours_per_week_group_Very Overtime', 'ord__education'],\n",
       "      dtype=object)"
      ]
     },
     "execution_count": 25,
     "metadata": {},
     "output_type": "execute_result"
    }
   ],
   "source": [
    "X_transformed_columns = preprocessor.get_feature_names_out()\n",
    "X_transformed_columns"
   ]
  },
  {
   "cell_type": "code",
   "execution_count": 27,
   "id": "8836a126",
   "metadata": {},
   "outputs": [
    {
     "name": "stdout",
     "output_type": "stream",
     "text": [
      "(23930, 47) (5983, 47)\n"
     ]
    }
   ],
   "source": [
    "print(X_train_transformed.shape, X_test_transformed.shape)"
   ]
  },
  {
   "cell_type": "code",
   "execution_count": 29,
   "id": "a03d9f5a",
   "metadata": {},
   "outputs": [],
   "source": [
    "X_train = pd.DataFrame(\n",
    "    X_train_transformed, \n",
    "    columns=X_transformed_columns\n",
    ")\n",
    "\n",
    "X_test = pd.DataFrame(\n",
    "    X_test_transformed, \n",
    "    columns=X_transformed_columns\n",
    ")"
   ]
  },
  {
   "cell_type": "code",
   "execution_count": 32,
   "id": "c1e97e2e",
   "metadata": {},
   "outputs": [
    {
     "data": {
      "application/vnd.microsoft.datawrangler.viewer.v0+json": {
       "columns": [
        {
         "name": "index",
         "rawType": "int64",
         "type": "integer"
        },
        {
         "name": "std__age",
         "rawType": "float64",
         "type": "float"
        },
        {
         "name": "std__capital.gain.log",
         "rawType": "float64",
         "type": "float"
        },
        {
         "name": "std__capital.loss.log",
         "rawType": "float64",
         "type": "float"
        },
        {
         "name": "std__net.capital",
         "rawType": "float64",
         "type": "float"
        },
        {
         "name": "minmax__hours.per.week",
         "rawType": "float64",
         "type": "float"
        },
        {
         "name": "bin__sex",
         "rawType": "float64",
         "type": "float"
        },
        {
         "name": "bin__is_single_parent",
         "rawType": "float64",
         "type": "float"
        },
        {
         "name": "bin__is_US",
         "rawType": "float64",
         "type": "float"
        },
        {
         "name": "cat__workclass_Entrepreneur",
         "rawType": "float64",
         "type": "float"
        },
        {
         "name": "cat__workclass_Federal-gov",
         "rawType": "float64",
         "type": "float"
        },
        {
         "name": "cat__workclass_Local-gov",
         "rawType": "float64",
         "type": "float"
        },
        {
         "name": "cat__workclass_Private",
         "rawType": "float64",
         "type": "float"
        },
        {
         "name": "cat__workclass_State-gov",
         "rawType": "float64",
         "type": "float"
        },
        {
         "name": "cat__workclass_Without-pay",
         "rawType": "float64",
         "type": "float"
        },
        {
         "name": "cat__occupation_Adm-clerical",
         "rawType": "float64",
         "type": "float"
        },
        {
         "name": "cat__occupation_Armed-Forces",
         "rawType": "float64",
         "type": "float"
        },
        {
         "name": "cat__occupation_Craft-repair",
         "rawType": "float64",
         "type": "float"
        },
        {
         "name": "cat__occupation_Exec-managerial",
         "rawType": "float64",
         "type": "float"
        },
        {
         "name": "cat__occupation_Farming-fishing",
         "rawType": "float64",
         "type": "float"
        },
        {
         "name": "cat__occupation_Handlers-cleaners",
         "rawType": "float64",
         "type": "float"
        },
        {
         "name": "cat__occupation_Machine-op-inspct",
         "rawType": "float64",
         "type": "float"
        },
        {
         "name": "cat__occupation_Other-service",
         "rawType": "float64",
         "type": "float"
        },
        {
         "name": "cat__occupation_Priv-house-serv",
         "rawType": "float64",
         "type": "float"
        },
        {
         "name": "cat__occupation_Prof-specialty",
         "rawType": "float64",
         "type": "float"
        },
        {
         "name": "cat__occupation_Protective-serv",
         "rawType": "float64",
         "type": "float"
        },
        {
         "name": "cat__occupation_Sales",
         "rawType": "float64",
         "type": "float"
        },
        {
         "name": "cat__occupation_Tech-support",
         "rawType": "float64",
         "type": "float"
        },
        {
         "name": "cat__occupation_Transport-moving",
         "rawType": "float64",
         "type": "float"
        },
        {
         "name": "cat__relationship_Married",
         "rawType": "float64",
         "type": "float"
        },
        {
         "name": "cat__relationship_Not-in-family",
         "rawType": "float64",
         "type": "float"
        },
        {
         "name": "cat__relationship_Other-relative",
         "rawType": "float64",
         "type": "float"
        },
        {
         "name": "cat__relationship_Own-child",
         "rawType": "float64",
         "type": "float"
        },
        {
         "name": "cat__relationship_Unmarried",
         "rawType": "float64",
         "type": "float"
        },
        {
         "name": "cat__race_Amer-Indian-Eskimo",
         "rawType": "float64",
         "type": "float"
        },
        {
         "name": "cat__race_Asian-Pac-Islander",
         "rawType": "float64",
         "type": "float"
        },
        {
         "name": "cat__race_Black",
         "rawType": "float64",
         "type": "float"
        },
        {
         "name": "cat__race_Other",
         "rawType": "float64",
         "type": "float"
        },
        {
         "name": "cat__race_White",
         "rawType": "float64",
         "type": "float"
        },
        {
         "name": "cat__age_group_Adult",
         "rawType": "float64",
         "type": "float"
        },
        {
         "name": "cat__age_group_Senior",
         "rawType": "float64",
         "type": "float"
        },
        {
         "name": "cat__age_group_Very Senior",
         "rawType": "float64",
         "type": "float"
        },
        {
         "name": "cat__age_group_Young",
         "rawType": "float64",
         "type": "float"
        },
        {
         "name": "cat__hours_per_week_group_Full-time",
         "rawType": "float64",
         "type": "float"
        },
        {
         "name": "cat__hours_per_week_group_Overtime",
         "rawType": "float64",
         "type": "float"
        },
        {
         "name": "cat__hours_per_week_group_Part-time",
         "rawType": "float64",
         "type": "float"
        },
        {
         "name": "cat__hours_per_week_group_Very Overtime",
         "rawType": "float64",
         "type": "float"
        },
        {
         "name": "ord__education",
         "rawType": "float64",
         "type": "float"
        }
       ],
       "ref": "90ad325a-f624-46c4-bdc4-11f98718c375",
       "rows": [
        [
         "0",
         "1.0347822428692937",
         "-0.29298123725120995",
         "-0.21461882152856326",
         "-0.19973940634137732",
         "0.6020408163265305",
         "0.0",
         "0.0",
         "1.0",
         "0.0",
         "0.0",
         "0.0",
         "1.0",
         "0.0",
         "0.0",
         "1.0",
         "0.0",
         "0.0",
         "0.0",
         "0.0",
         "0.0",
         "0.0",
         "0.0",
         "0.0",
         "0.0",
         "0.0",
         "0.0",
         "0.0",
         "0.0",
         "0.0",
         "1.0",
         "0.0",
         "0.0",
         "0.0",
         "0.0",
         "0.0",
         "0.0",
         "0.0",
         "1.0",
         "0.0",
         "1.0",
         "0.0",
         "0.0",
         "0.0",
         "0.0",
         "0.0",
         "1.0",
         "4.0"
        ],
        [
         "1",
         "1.794393487239842",
         "-0.29298123725120995",
         "-0.21461882152856326",
         "-0.19973940634137732",
         "0.31632653061224486",
         "0.0",
         "0.0",
         "1.0",
         "0.0",
         "0.0",
         "0.0",
         "1.0",
         "0.0",
         "0.0",
         "0.0",
         "0.0",
         "0.0",
         "0.0",
         "0.0",
         "0.0",
         "0.0",
         "0.0",
         "0.0",
         "0.0",
         "0.0",
         "1.0",
         "0.0",
         "0.0",
         "0.0",
         "1.0",
         "0.0",
         "0.0",
         "0.0",
         "0.0",
         "0.0",
         "0.0",
         "0.0",
         "1.0",
         "0.0",
         "1.0",
         "0.0",
         "0.0",
         "1.0",
         "0.0",
         "0.0",
         "0.0",
         "3.0"
        ],
        [
         "2",
         "1.2626656161804581",
         "-0.29298123725120995",
         "-0.21461882152856326",
         "-0.19973940634137732",
         "0.11224489795918367",
         "0.0",
         "0.0",
         "1.0",
         "1.0",
         "0.0",
         "0.0",
         "0.0",
         "0.0",
         "0.0",
         "0.0",
         "0.0",
         "0.0",
         "0.0",
         "0.0",
         "0.0",
         "0.0",
         "0.0",
         "0.0",
         "0.0",
         "0.0",
         "0.0",
         "1.0",
         "0.0",
         "0.0",
         "1.0",
         "0.0",
         "0.0",
         "0.0",
         "0.0",
         "0.0",
         "0.0",
         "0.0",
         "1.0",
         "0.0",
         "1.0",
         "0.0",
         "0.0",
         "0.0",
         "0.0",
         "1.0",
         "0.0",
         "4.0"
        ],
        [
         "3",
         "1.338626740617513",
         "-0.29298123725120995",
         "-0.21461882152856326",
         "-0.19973940634137732",
         "0.2959183673469387",
         "0.0",
         "1.0",
         "1.0",
         "0.0",
         "0.0",
         "0.0",
         "1.0",
         "0.0",
         "0.0",
         "0.0",
         "0.0",
         "0.0",
         "0.0",
         "0.0",
         "0.0",
         "0.0",
         "1.0",
         "0.0",
         "0.0",
         "0.0",
         "0.0",
         "0.0",
         "0.0",
         "0.0",
         "0.0",
         "0.0",
         "1.0",
         "0.0",
         "0.0",
         "0.0",
         "0.0",
         "0.0",
         "1.0",
         "0.0",
         "1.0",
         "0.0",
         "0.0",
         "1.0",
         "0.0",
         "0.0",
         "0.0",
         "1.0"
        ],
        [
         "4",
         "0.7309377451210742",
         "-0.29298123725120995",
         "-0.21461882152856326",
         "-0.19973940634137732",
         "0.39795918367346933",
         "1.0",
         "0.0",
         "1.0",
         "0.0",
         "0.0",
         "1.0",
         "0.0",
         "0.0",
         "0.0",
         "0.0",
         "0.0",
         "0.0",
         "0.0",
         "0.0",
         "0.0",
         "0.0",
         "1.0",
         "0.0",
         "0.0",
         "0.0",
         "0.0",
         "0.0",
         "0.0",
         "1.0",
         "0.0",
         "0.0",
         "0.0",
         "0.0",
         "0.0",
         "0.0",
         "0.0",
         "0.0",
         "1.0",
         "1.0",
         "0.0",
         "0.0",
         "0.0",
         "1.0",
         "0.0",
         "0.0",
         "0.0",
         "3.0"
        ]
       ],
       "shape": {
        "columns": 47,
        "rows": 5
       }
      },
      "text/html": [
       "<div>\n",
       "<style scoped>\n",
       "    .dataframe tbody tr th:only-of-type {\n",
       "        vertical-align: middle;\n",
       "    }\n",
       "\n",
       "    .dataframe tbody tr th {\n",
       "        vertical-align: top;\n",
       "    }\n",
       "\n",
       "    .dataframe thead th {\n",
       "        text-align: right;\n",
       "    }\n",
       "</style>\n",
       "<table border=\"1\" class=\"dataframe\">\n",
       "  <thead>\n",
       "    <tr style=\"text-align: right;\">\n",
       "      <th></th>\n",
       "      <th>std__age</th>\n",
       "      <th>std__capital.gain.log</th>\n",
       "      <th>std__capital.loss.log</th>\n",
       "      <th>std__net.capital</th>\n",
       "      <th>minmax__hours.per.week</th>\n",
       "      <th>bin__sex</th>\n",
       "      <th>bin__is_single_parent</th>\n",
       "      <th>bin__is_US</th>\n",
       "      <th>cat__workclass_Entrepreneur</th>\n",
       "      <th>cat__workclass_Federal-gov</th>\n",
       "      <th>...</th>\n",
       "      <th>cat__race_White</th>\n",
       "      <th>cat__age_group_Adult</th>\n",
       "      <th>cat__age_group_Senior</th>\n",
       "      <th>cat__age_group_Very Senior</th>\n",
       "      <th>cat__age_group_Young</th>\n",
       "      <th>cat__hours_per_week_group_Full-time</th>\n",
       "      <th>cat__hours_per_week_group_Overtime</th>\n",
       "      <th>cat__hours_per_week_group_Part-time</th>\n",
       "      <th>cat__hours_per_week_group_Very Overtime</th>\n",
       "      <th>ord__education</th>\n",
       "    </tr>\n",
       "  </thead>\n",
       "  <tbody>\n",
       "    <tr>\n",
       "      <th>0</th>\n",
       "      <td>1.034782</td>\n",
       "      <td>-0.292981</td>\n",
       "      <td>-0.214619</td>\n",
       "      <td>-0.199739</td>\n",
       "      <td>0.602041</td>\n",
       "      <td>0.0</td>\n",
       "      <td>0.0</td>\n",
       "      <td>1.0</td>\n",
       "      <td>0.0</td>\n",
       "      <td>0.0</td>\n",
       "      <td>...</td>\n",
       "      <td>1.0</td>\n",
       "      <td>0.0</td>\n",
       "      <td>1.0</td>\n",
       "      <td>0.0</td>\n",
       "      <td>0.0</td>\n",
       "      <td>0.0</td>\n",
       "      <td>0.0</td>\n",
       "      <td>0.0</td>\n",
       "      <td>1.0</td>\n",
       "      <td>4.0</td>\n",
       "    </tr>\n",
       "    <tr>\n",
       "      <th>1</th>\n",
       "      <td>1.794393</td>\n",
       "      <td>-0.292981</td>\n",
       "      <td>-0.214619</td>\n",
       "      <td>-0.199739</td>\n",
       "      <td>0.316327</td>\n",
       "      <td>0.0</td>\n",
       "      <td>0.0</td>\n",
       "      <td>1.0</td>\n",
       "      <td>0.0</td>\n",
       "      <td>0.0</td>\n",
       "      <td>...</td>\n",
       "      <td>1.0</td>\n",
       "      <td>0.0</td>\n",
       "      <td>1.0</td>\n",
       "      <td>0.0</td>\n",
       "      <td>0.0</td>\n",
       "      <td>1.0</td>\n",
       "      <td>0.0</td>\n",
       "      <td>0.0</td>\n",
       "      <td>0.0</td>\n",
       "      <td>3.0</td>\n",
       "    </tr>\n",
       "    <tr>\n",
       "      <th>2</th>\n",
       "      <td>1.262666</td>\n",
       "      <td>-0.292981</td>\n",
       "      <td>-0.214619</td>\n",
       "      <td>-0.199739</td>\n",
       "      <td>0.112245</td>\n",
       "      <td>0.0</td>\n",
       "      <td>0.0</td>\n",
       "      <td>1.0</td>\n",
       "      <td>1.0</td>\n",
       "      <td>0.0</td>\n",
       "      <td>...</td>\n",
       "      <td>1.0</td>\n",
       "      <td>0.0</td>\n",
       "      <td>1.0</td>\n",
       "      <td>0.0</td>\n",
       "      <td>0.0</td>\n",
       "      <td>0.0</td>\n",
       "      <td>0.0</td>\n",
       "      <td>1.0</td>\n",
       "      <td>0.0</td>\n",
       "      <td>4.0</td>\n",
       "    </tr>\n",
       "    <tr>\n",
       "      <th>3</th>\n",
       "      <td>1.338627</td>\n",
       "      <td>-0.292981</td>\n",
       "      <td>-0.214619</td>\n",
       "      <td>-0.199739</td>\n",
       "      <td>0.295918</td>\n",
       "      <td>0.0</td>\n",
       "      <td>1.0</td>\n",
       "      <td>1.0</td>\n",
       "      <td>0.0</td>\n",
       "      <td>0.0</td>\n",
       "      <td>...</td>\n",
       "      <td>1.0</td>\n",
       "      <td>0.0</td>\n",
       "      <td>1.0</td>\n",
       "      <td>0.0</td>\n",
       "      <td>0.0</td>\n",
       "      <td>1.0</td>\n",
       "      <td>0.0</td>\n",
       "      <td>0.0</td>\n",
       "      <td>0.0</td>\n",
       "      <td>1.0</td>\n",
       "    </tr>\n",
       "    <tr>\n",
       "      <th>4</th>\n",
       "      <td>0.730938</td>\n",
       "      <td>-0.292981</td>\n",
       "      <td>-0.214619</td>\n",
       "      <td>-0.199739</td>\n",
       "      <td>0.397959</td>\n",
       "      <td>1.0</td>\n",
       "      <td>0.0</td>\n",
       "      <td>1.0</td>\n",
       "      <td>0.0</td>\n",
       "      <td>0.0</td>\n",
       "      <td>...</td>\n",
       "      <td>1.0</td>\n",
       "      <td>1.0</td>\n",
       "      <td>0.0</td>\n",
       "      <td>0.0</td>\n",
       "      <td>0.0</td>\n",
       "      <td>1.0</td>\n",
       "      <td>0.0</td>\n",
       "      <td>0.0</td>\n",
       "      <td>0.0</td>\n",
       "      <td>3.0</td>\n",
       "    </tr>\n",
       "  </tbody>\n",
       "</table>\n",
       "<p>5 rows × 47 columns</p>\n",
       "</div>"
      ],
      "text/plain": [
       "   std__age  std__capital.gain.log  std__capital.loss.log  std__net.capital  \\\n",
       "0  1.034782              -0.292981              -0.214619         -0.199739   \n",
       "1  1.794393              -0.292981              -0.214619         -0.199739   \n",
       "2  1.262666              -0.292981              -0.214619         -0.199739   \n",
       "3  1.338627              -0.292981              -0.214619         -0.199739   \n",
       "4  0.730938              -0.292981              -0.214619         -0.199739   \n",
       "\n",
       "   minmax__hours.per.week  bin__sex  bin__is_single_parent  bin__is_US  \\\n",
       "0                0.602041       0.0                    0.0         1.0   \n",
       "1                0.316327       0.0                    0.0         1.0   \n",
       "2                0.112245       0.0                    0.0         1.0   \n",
       "3                0.295918       0.0                    1.0         1.0   \n",
       "4                0.397959       1.0                    0.0         1.0   \n",
       "\n",
       "   cat__workclass_Entrepreneur  cat__workclass_Federal-gov  ...  \\\n",
       "0                          0.0                         0.0  ...   \n",
       "1                          0.0                         0.0  ...   \n",
       "2                          1.0                         0.0  ...   \n",
       "3                          0.0                         0.0  ...   \n",
       "4                          0.0                         0.0  ...   \n",
       "\n",
       "   cat__race_White  cat__age_group_Adult  cat__age_group_Senior  \\\n",
       "0              1.0                   0.0                    1.0   \n",
       "1              1.0                   0.0                    1.0   \n",
       "2              1.0                   0.0                    1.0   \n",
       "3              1.0                   0.0                    1.0   \n",
       "4              1.0                   1.0                    0.0   \n",
       "\n",
       "   cat__age_group_Very Senior  cat__age_group_Young  \\\n",
       "0                         0.0                   0.0   \n",
       "1                         0.0                   0.0   \n",
       "2                         0.0                   0.0   \n",
       "3                         0.0                   0.0   \n",
       "4                         0.0                   0.0   \n",
       "\n",
       "   cat__hours_per_week_group_Full-time  cat__hours_per_week_group_Overtime  \\\n",
       "0                                  0.0                                 0.0   \n",
       "1                                  1.0                                 0.0   \n",
       "2                                  0.0                                 0.0   \n",
       "3                                  1.0                                 0.0   \n",
       "4                                  1.0                                 0.0   \n",
       "\n",
       "   cat__hours_per_week_group_Part-time  \\\n",
       "0                                  0.0   \n",
       "1                                  0.0   \n",
       "2                                  1.0   \n",
       "3                                  0.0   \n",
       "4                                  0.0   \n",
       "\n",
       "   cat__hours_per_week_group_Very Overtime  ord__education  \n",
       "0                                      1.0             4.0  \n",
       "1                                      0.0             3.0  \n",
       "2                                      0.0             4.0  \n",
       "3                                      0.0             1.0  \n",
       "4                                      0.0             3.0  \n",
       "\n",
       "[5 rows x 47 columns]"
      ]
     },
     "execution_count": 32,
     "metadata": {},
     "output_type": "execute_result"
    }
   ],
   "source": [
    "X_train.head()"
   ]
  },
  {
   "cell_type": "code",
   "execution_count": 33,
   "id": "da2ad8f4",
   "metadata": {},
   "outputs": [
    {
     "data": {
      "application/vnd.microsoft.datawrangler.viewer.v0+json": {
       "columns": [
        {
         "name": "index",
         "rawType": "int64",
         "type": "integer"
        },
        {
         "name": "std__age",
         "rawType": "float64",
         "type": "float"
        },
        {
         "name": "std__capital.gain.log",
         "rawType": "float64",
         "type": "float"
        },
        {
         "name": "std__capital.loss.log",
         "rawType": "float64",
         "type": "float"
        },
        {
         "name": "std__net.capital",
         "rawType": "float64",
         "type": "float"
        },
        {
         "name": "minmax__hours.per.week",
         "rawType": "float64",
         "type": "float"
        },
        {
         "name": "bin__sex",
         "rawType": "float64",
         "type": "float"
        },
        {
         "name": "bin__is_single_parent",
         "rawType": "float64",
         "type": "float"
        },
        {
         "name": "bin__is_US",
         "rawType": "float64",
         "type": "float"
        },
        {
         "name": "cat__workclass_Entrepreneur",
         "rawType": "float64",
         "type": "float"
        },
        {
         "name": "cat__workclass_Federal-gov",
         "rawType": "float64",
         "type": "float"
        },
        {
         "name": "cat__workclass_Local-gov",
         "rawType": "float64",
         "type": "float"
        },
        {
         "name": "cat__workclass_Private",
         "rawType": "float64",
         "type": "float"
        },
        {
         "name": "cat__workclass_State-gov",
         "rawType": "float64",
         "type": "float"
        },
        {
         "name": "cat__workclass_Without-pay",
         "rawType": "float64",
         "type": "float"
        },
        {
         "name": "cat__occupation_Adm-clerical",
         "rawType": "float64",
         "type": "float"
        },
        {
         "name": "cat__occupation_Armed-Forces",
         "rawType": "float64",
         "type": "float"
        },
        {
         "name": "cat__occupation_Craft-repair",
         "rawType": "float64",
         "type": "float"
        },
        {
         "name": "cat__occupation_Exec-managerial",
         "rawType": "float64",
         "type": "float"
        },
        {
         "name": "cat__occupation_Farming-fishing",
         "rawType": "float64",
         "type": "float"
        },
        {
         "name": "cat__occupation_Handlers-cleaners",
         "rawType": "float64",
         "type": "float"
        },
        {
         "name": "cat__occupation_Machine-op-inspct",
         "rawType": "float64",
         "type": "float"
        },
        {
         "name": "cat__occupation_Other-service",
         "rawType": "float64",
         "type": "float"
        },
        {
         "name": "cat__occupation_Priv-house-serv",
         "rawType": "float64",
         "type": "float"
        },
        {
         "name": "cat__occupation_Prof-specialty",
         "rawType": "float64",
         "type": "float"
        },
        {
         "name": "cat__occupation_Protective-serv",
         "rawType": "float64",
         "type": "float"
        },
        {
         "name": "cat__occupation_Sales",
         "rawType": "float64",
         "type": "float"
        },
        {
         "name": "cat__occupation_Tech-support",
         "rawType": "float64",
         "type": "float"
        },
        {
         "name": "cat__occupation_Transport-moving",
         "rawType": "float64",
         "type": "float"
        },
        {
         "name": "cat__relationship_Married",
         "rawType": "float64",
         "type": "float"
        },
        {
         "name": "cat__relationship_Not-in-family",
         "rawType": "float64",
         "type": "float"
        },
        {
         "name": "cat__relationship_Other-relative",
         "rawType": "float64",
         "type": "float"
        },
        {
         "name": "cat__relationship_Own-child",
         "rawType": "float64",
         "type": "float"
        },
        {
         "name": "cat__relationship_Unmarried",
         "rawType": "float64",
         "type": "float"
        },
        {
         "name": "cat__race_Amer-Indian-Eskimo",
         "rawType": "float64",
         "type": "float"
        },
        {
         "name": "cat__race_Asian-Pac-Islander",
         "rawType": "float64",
         "type": "float"
        },
        {
         "name": "cat__race_Black",
         "rawType": "float64",
         "type": "float"
        },
        {
         "name": "cat__race_Other",
         "rawType": "float64",
         "type": "float"
        },
        {
         "name": "cat__race_White",
         "rawType": "float64",
         "type": "float"
        },
        {
         "name": "cat__age_group_Adult",
         "rawType": "float64",
         "type": "float"
        },
        {
         "name": "cat__age_group_Senior",
         "rawType": "float64",
         "type": "float"
        },
        {
         "name": "cat__age_group_Very Senior",
         "rawType": "float64",
         "type": "float"
        },
        {
         "name": "cat__age_group_Young",
         "rawType": "float64",
         "type": "float"
        },
        {
         "name": "cat__hours_per_week_group_Full-time",
         "rawType": "float64",
         "type": "float"
        },
        {
         "name": "cat__hours_per_week_group_Overtime",
         "rawType": "float64",
         "type": "float"
        },
        {
         "name": "cat__hours_per_week_group_Part-time",
         "rawType": "float64",
         "type": "float"
        },
        {
         "name": "cat__hours_per_week_group_Very Overtime",
         "rawType": "float64",
         "type": "float"
        },
        {
         "name": "ord__education",
         "rawType": "float64",
         "type": "float"
        }
       ],
       "ref": "e93b2899-2486-4c84-a9d0-07dc539ad660",
       "rows": [
        [
         "0",
         "-0.5604013703088578",
         "-0.29298123725120995",
         "4.617527262239911",
         "-0.8683339563115472",
         "0.39795918367346933",
         "1.0",
         "0.0",
         "1.0",
         "0.0",
         "0.0",
         "0.0",
         "1.0",
         "0.0",
         "0.0",
         "0.0",
         "0.0",
         "1.0",
         "0.0",
         "0.0",
         "0.0",
         "0.0",
         "0.0",
         "0.0",
         "0.0",
         "0.0",
         "0.0",
         "0.0",
         "0.0",
         "1.0",
         "0.0",
         "0.0",
         "0.0",
         "0.0",
         "0.0",
         "0.0",
         "0.0",
         "0.0",
         "1.0",
         "1.0",
         "0.0",
         "0.0",
         "0.0",
         "1.0",
         "0.0",
         "0.0",
         "0.0",
         "5.0"
        ],
        [
         "1",
         "-1.1680903658052966",
         "-0.29298123725120995",
         "-0.21461882152856326",
         "-0.19973940634137732",
         "0.2959183673469387",
         "1.0",
         "0.0",
         "1.0",
         "0.0",
         "0.0",
         "1.0",
         "0.0",
         "0.0",
         "0.0",
         "0.0",
         "0.0",
         "0.0",
         "0.0",
         "0.0",
         "0.0",
         "0.0",
         "1.0",
         "0.0",
         "0.0",
         "0.0",
         "0.0",
         "0.0",
         "0.0",
         "0.0",
         "1.0",
         "0.0",
         "0.0",
         "0.0",
         "0.0",
         "0.0",
         "1.0",
         "0.0",
         "0.0",
         "0.0",
         "0.0",
         "0.0",
         "1.0",
         "1.0",
         "0.0",
         "0.0",
         "0.0",
         "4.0"
        ],
        [
         "2",
         "-0.1805957481235837",
         "-0.29298123725120995",
         "-0.21461882152856326",
         "-0.19973940634137732",
         "0.5",
         "1.0",
         "0.0",
         "1.0",
         "0.0",
         "0.0",
         "0.0",
         "1.0",
         "0.0",
         "0.0",
         "0.0",
         "0.0",
         "0.0",
         "0.0",
         "0.0",
         "0.0",
         "0.0",
         "1.0",
         "0.0",
         "0.0",
         "0.0",
         "0.0",
         "0.0",
         "0.0",
         "1.0",
         "0.0",
         "0.0",
         "0.0",
         "0.0",
         "0.0",
         "0.0",
         "0.0",
         "0.0",
         "1.0",
         "1.0",
         "0.0",
         "0.0",
         "0.0",
         "0.0",
         "1.0",
         "0.0",
         "0.0",
         "3.0"
        ],
        [
         "3",
         "-0.7123236191829675",
         "-0.29298123725120995",
         "-0.21461882152856326",
         "-0.19973940634137732",
         "0.39795918367346933",
         "1.0",
         "0.0",
         "1.0",
         "0.0",
         "0.0",
         "0.0",
         "1.0",
         "0.0",
         "0.0",
         "0.0",
         "0.0",
         "0.0",
         "1.0",
         "0.0",
         "0.0",
         "0.0",
         "0.0",
         "0.0",
         "0.0",
         "0.0",
         "0.0",
         "0.0",
         "0.0",
         "0.0",
         "1.0",
         "0.0",
         "0.0",
         "0.0",
         "0.0",
         "0.0",
         "0.0",
         "0.0",
         "1.0",
         "1.0",
         "0.0",
         "0.0",
         "0.0",
         "1.0",
         "0.0",
         "0.0",
         "0.0",
         "5.0"
        ],
        [
         "4",
         "0.6549766206840194",
         "-0.29298123725120995",
         "4.514973896231042",
         "-0.7703502722641947",
         "0.4693877551020408",
         "1.0",
         "0.0",
         "1.0",
         "0.0",
         "0.0",
         "0.0",
         "1.0",
         "0.0",
         "0.0",
         "0.0",
         "0.0",
         "1.0",
         "0.0",
         "0.0",
         "0.0",
         "0.0",
         "0.0",
         "0.0",
         "0.0",
         "0.0",
         "0.0",
         "0.0",
         "0.0",
         "1.0",
         "0.0",
         "0.0",
         "0.0",
         "0.0",
         "0.0",
         "0.0",
         "0.0",
         "0.0",
         "1.0",
         "1.0",
         "0.0",
         "0.0",
         "0.0",
         "0.0",
         "1.0",
         "0.0",
         "0.0",
         "4.0"
        ]
       ],
       "shape": {
        "columns": 47,
        "rows": 5
       }
      },
      "text/html": [
       "<div>\n",
       "<style scoped>\n",
       "    .dataframe tbody tr th:only-of-type {\n",
       "        vertical-align: middle;\n",
       "    }\n",
       "\n",
       "    .dataframe tbody tr th {\n",
       "        vertical-align: top;\n",
       "    }\n",
       "\n",
       "    .dataframe thead th {\n",
       "        text-align: right;\n",
       "    }\n",
       "</style>\n",
       "<table border=\"1\" class=\"dataframe\">\n",
       "  <thead>\n",
       "    <tr style=\"text-align: right;\">\n",
       "      <th></th>\n",
       "      <th>std__age</th>\n",
       "      <th>std__capital.gain.log</th>\n",
       "      <th>std__capital.loss.log</th>\n",
       "      <th>std__net.capital</th>\n",
       "      <th>minmax__hours.per.week</th>\n",
       "      <th>bin__sex</th>\n",
       "      <th>bin__is_single_parent</th>\n",
       "      <th>bin__is_US</th>\n",
       "      <th>cat__workclass_Entrepreneur</th>\n",
       "      <th>cat__workclass_Federal-gov</th>\n",
       "      <th>...</th>\n",
       "      <th>cat__race_White</th>\n",
       "      <th>cat__age_group_Adult</th>\n",
       "      <th>cat__age_group_Senior</th>\n",
       "      <th>cat__age_group_Very Senior</th>\n",
       "      <th>cat__age_group_Young</th>\n",
       "      <th>cat__hours_per_week_group_Full-time</th>\n",
       "      <th>cat__hours_per_week_group_Overtime</th>\n",
       "      <th>cat__hours_per_week_group_Part-time</th>\n",
       "      <th>cat__hours_per_week_group_Very Overtime</th>\n",
       "      <th>ord__education</th>\n",
       "    </tr>\n",
       "  </thead>\n",
       "  <tbody>\n",
       "    <tr>\n",
       "      <th>0</th>\n",
       "      <td>-0.560401</td>\n",
       "      <td>-0.292981</td>\n",
       "      <td>4.617527</td>\n",
       "      <td>-0.868334</td>\n",
       "      <td>0.397959</td>\n",
       "      <td>1.0</td>\n",
       "      <td>0.0</td>\n",
       "      <td>1.0</td>\n",
       "      <td>0.0</td>\n",
       "      <td>0.0</td>\n",
       "      <td>...</td>\n",
       "      <td>1.0</td>\n",
       "      <td>1.0</td>\n",
       "      <td>0.0</td>\n",
       "      <td>0.0</td>\n",
       "      <td>0.0</td>\n",
       "      <td>1.0</td>\n",
       "      <td>0.0</td>\n",
       "      <td>0.0</td>\n",
       "      <td>0.0</td>\n",
       "      <td>5.0</td>\n",
       "    </tr>\n",
       "    <tr>\n",
       "      <th>1</th>\n",
       "      <td>-1.168090</td>\n",
       "      <td>-0.292981</td>\n",
       "      <td>-0.214619</td>\n",
       "      <td>-0.199739</td>\n",
       "      <td>0.295918</td>\n",
       "      <td>1.0</td>\n",
       "      <td>0.0</td>\n",
       "      <td>1.0</td>\n",
       "      <td>0.0</td>\n",
       "      <td>0.0</td>\n",
       "      <td>...</td>\n",
       "      <td>0.0</td>\n",
       "      <td>0.0</td>\n",
       "      <td>0.0</td>\n",
       "      <td>0.0</td>\n",
       "      <td>1.0</td>\n",
       "      <td>1.0</td>\n",
       "      <td>0.0</td>\n",
       "      <td>0.0</td>\n",
       "      <td>0.0</td>\n",
       "      <td>4.0</td>\n",
       "    </tr>\n",
       "    <tr>\n",
       "      <th>2</th>\n",
       "      <td>-0.180596</td>\n",
       "      <td>-0.292981</td>\n",
       "      <td>-0.214619</td>\n",
       "      <td>-0.199739</td>\n",
       "      <td>0.500000</td>\n",
       "      <td>1.0</td>\n",
       "      <td>0.0</td>\n",
       "      <td>1.0</td>\n",
       "      <td>0.0</td>\n",
       "      <td>0.0</td>\n",
       "      <td>...</td>\n",
       "      <td>1.0</td>\n",
       "      <td>1.0</td>\n",
       "      <td>0.0</td>\n",
       "      <td>0.0</td>\n",
       "      <td>0.0</td>\n",
       "      <td>0.0</td>\n",
       "      <td>1.0</td>\n",
       "      <td>0.0</td>\n",
       "      <td>0.0</td>\n",
       "      <td>3.0</td>\n",
       "    </tr>\n",
       "    <tr>\n",
       "      <th>3</th>\n",
       "      <td>-0.712324</td>\n",
       "      <td>-0.292981</td>\n",
       "      <td>-0.214619</td>\n",
       "      <td>-0.199739</td>\n",
       "      <td>0.397959</td>\n",
       "      <td>1.0</td>\n",
       "      <td>0.0</td>\n",
       "      <td>1.0</td>\n",
       "      <td>0.0</td>\n",
       "      <td>0.0</td>\n",
       "      <td>...</td>\n",
       "      <td>1.0</td>\n",
       "      <td>1.0</td>\n",
       "      <td>0.0</td>\n",
       "      <td>0.0</td>\n",
       "      <td>0.0</td>\n",
       "      <td>1.0</td>\n",
       "      <td>0.0</td>\n",
       "      <td>0.0</td>\n",
       "      <td>0.0</td>\n",
       "      <td>5.0</td>\n",
       "    </tr>\n",
       "    <tr>\n",
       "      <th>4</th>\n",
       "      <td>0.654977</td>\n",
       "      <td>-0.292981</td>\n",
       "      <td>4.514974</td>\n",
       "      <td>-0.770350</td>\n",
       "      <td>0.469388</td>\n",
       "      <td>1.0</td>\n",
       "      <td>0.0</td>\n",
       "      <td>1.0</td>\n",
       "      <td>0.0</td>\n",
       "      <td>0.0</td>\n",
       "      <td>...</td>\n",
       "      <td>1.0</td>\n",
       "      <td>1.0</td>\n",
       "      <td>0.0</td>\n",
       "      <td>0.0</td>\n",
       "      <td>0.0</td>\n",
       "      <td>0.0</td>\n",
       "      <td>1.0</td>\n",
       "      <td>0.0</td>\n",
       "      <td>0.0</td>\n",
       "      <td>4.0</td>\n",
       "    </tr>\n",
       "  </tbody>\n",
       "</table>\n",
       "<p>5 rows × 47 columns</p>\n",
       "</div>"
      ],
      "text/plain": [
       "   std__age  std__capital.gain.log  std__capital.loss.log  std__net.capital  \\\n",
       "0 -0.560401              -0.292981               4.617527         -0.868334   \n",
       "1 -1.168090              -0.292981              -0.214619         -0.199739   \n",
       "2 -0.180596              -0.292981              -0.214619         -0.199739   \n",
       "3 -0.712324              -0.292981              -0.214619         -0.199739   \n",
       "4  0.654977              -0.292981               4.514974         -0.770350   \n",
       "\n",
       "   minmax__hours.per.week  bin__sex  bin__is_single_parent  bin__is_US  \\\n",
       "0                0.397959       1.0                    0.0         1.0   \n",
       "1                0.295918       1.0                    0.0         1.0   \n",
       "2                0.500000       1.0                    0.0         1.0   \n",
       "3                0.397959       1.0                    0.0         1.0   \n",
       "4                0.469388       1.0                    0.0         1.0   \n",
       "\n",
       "   cat__workclass_Entrepreneur  cat__workclass_Federal-gov  ...  \\\n",
       "0                          0.0                         0.0  ...   \n",
       "1                          0.0                         0.0  ...   \n",
       "2                          0.0                         0.0  ...   \n",
       "3                          0.0                         0.0  ...   \n",
       "4                          0.0                         0.0  ...   \n",
       "\n",
       "   cat__race_White  cat__age_group_Adult  cat__age_group_Senior  \\\n",
       "0              1.0                   1.0                    0.0   \n",
       "1              0.0                   0.0                    0.0   \n",
       "2              1.0                   1.0                    0.0   \n",
       "3              1.0                   1.0                    0.0   \n",
       "4              1.0                   1.0                    0.0   \n",
       "\n",
       "   cat__age_group_Very Senior  cat__age_group_Young  \\\n",
       "0                         0.0                   0.0   \n",
       "1                         0.0                   1.0   \n",
       "2                         0.0                   0.0   \n",
       "3                         0.0                   0.0   \n",
       "4                         0.0                   0.0   \n",
       "\n",
       "   cat__hours_per_week_group_Full-time  cat__hours_per_week_group_Overtime  \\\n",
       "0                                  1.0                                 0.0   \n",
       "1                                  1.0                                 0.0   \n",
       "2                                  0.0                                 1.0   \n",
       "3                                  1.0                                 0.0   \n",
       "4                                  0.0                                 1.0   \n",
       "\n",
       "   cat__hours_per_week_group_Part-time  \\\n",
       "0                                  0.0   \n",
       "1                                  0.0   \n",
       "2                                  0.0   \n",
       "3                                  0.0   \n",
       "4                                  0.0   \n",
       "\n",
       "   cat__hours_per_week_group_Very Overtime  ord__education  \n",
       "0                                      0.0             5.0  \n",
       "1                                      0.0             4.0  \n",
       "2                                      0.0             3.0  \n",
       "3                                      0.0             5.0  \n",
       "4                                      0.0             4.0  \n",
       "\n",
       "[5 rows x 47 columns]"
      ]
     },
     "execution_count": 33,
     "metadata": {},
     "output_type": "execute_result"
    }
   ],
   "source": [
    "X_test.head()"
   ]
  },
  {
   "cell_type": "markdown",
   "id": "e6934f1a",
   "metadata": {},
   "source": [
    "# Feature Selection"
   ]
  },
  {
   "cell_type": "code",
   "execution_count": 34,
   "id": "595f3fb2",
   "metadata": {},
   "outputs": [
    {
     "name": "stdout",
     "output_type": "stream",
     "text": [
      "Evaluating N=2 using 5-Fold Cross-Validation on training data...\n",
      "  Average CV F1 for N=2: 0.5215\n",
      "Evaluating N=3 using 5-Fold Cross-Validation on training data...\n",
      "  Average CV F1 for N=3: 0.6543\n",
      "Evaluating N=4 using 5-Fold Cross-Validation on training data...\n",
      "  Average CV F1 for N=4: 0.6554\n",
      "Evaluating N=5 using 5-Fold Cross-Validation on training data...\n",
      "  Average CV F1 for N=5: 0.6544\n",
      "Evaluating N=6 using 5-Fold Cross-Validation on training data...\n",
      "  Average CV F1 for N=6: 0.6632\n",
      "Evaluating N=7 using 5-Fold Cross-Validation on training data...\n",
      "  Average CV F1 for N=7: 0.6673\n",
      "Evaluating N=8 using 5-Fold Cross-Validation on training data...\n",
      "  Average CV F1 for N=8: 0.6585\n",
      "Evaluating N=9 using 5-Fold Cross-Validation on training data...\n",
      "  Average CV F1 for N=9: 0.6474\n",
      "Evaluating N=10 using 5-Fold Cross-Validation on training data...\n",
      "  Average CV F1 for N=10: 0.6478\n",
      "--------------------------------------------------\n",
      "Best N (based on TRAINING CV): 7 with Average CV F1: 0.6673\n"
     ]
    }
   ],
   "source": [
    "from sklearn.ensemble import RandomForestClassifier\n",
    "from sklearn.feature_selection import SelectKBest, f_classif\n",
    "from sklearn.metrics import f1_score\n",
    "from sklearn.model_selection import StratifiedKFold\n",
    "\n",
    "\n",
    "cv = StratifiedKFold(n_splits=5, shuffle=True, random_state=42)\n",
    "cv_results = {} # To store the average CV ROC-AUC for each N\n",
    "\n",
    "for N in range(2, 11):\n",
    "    print(f\"Evaluating N={N} using 5-Fold Cross-Validation on training data...\")\n",
    "    fold_scores = []\n",
    "    \n",
    "    # Perform CV on the training data\n",
    "    for train_idx, val_idx in cv.split(X_train, y_train):\n",
    "        \n",
    "        # Split the training data into temporary CV-Train and CV-Validation sets\n",
    "        X_cv_train, X_cv_val = X_train.iloc[train_idx], X_train.iloc[val_idx]\n",
    "        y_cv_train, y_cv_val = y_train.iloc[train_idx], y_train.iloc[val_idx]\n",
    "        \n",
    "        # Feature Selection: Fit and Transform ONLY on CV-TRAIN\n",
    "        k_best = SelectKBest(score_func=f_classif, k=N)\n",
    "        X_cv_train_sel = k_best.fit_transform(X_cv_train, y_cv_train)\n",
    "        \n",
    "        # Transform CV-VALIDATION set\n",
    "        X_cv_val_sel = k_best.transform(X_cv_val)\n",
    "        \n",
    "        # Model Training: Train model on CV-Train selected features\n",
    "        rfc = RandomForestClassifier(n_estimators=100, random_state=42)\n",
    "        rfc.fit(X_cv_train_sel, y_cv_train)\n",
    "        \n",
    "        # Evaluation: Evaluate on CV-Validation selected features\n",
    "        # 1. Get hard class predictions (0 or 1)\n",
    "        y_cv_val_pred = rfc.predict(X_cv_val_sel)\n",
    "\n",
    "        # 2. Calculate F1-score\n",
    "        val_f1 = f1_score(y_cv_val, y_cv_val_pred)\n",
    "\n",
    "        fold_scores.append(val_f1)\n",
    "        \n",
    "    # Store the average F1 for this N\n",
    "    avg_cv_f1 = np.mean(fold_scores)\n",
    "    cv_results[N] = avg_cv_f1\n",
    "    print(f\"  Average CV F1 for N={N}: {avg_cv_f1:.4f}\")\n",
    "\n",
    "# Get best N based on CV performance\n",
    "best_N = max(cv_results, key=cv_results.get)\n",
    "best_cv_f1 = cv_results[best_N]\n",
    "print(\"-\" * 50)\n",
    "print(f\"Best N (based on TRAINING CV): {best_N} with Average CV F1: {best_cv_f1:.4f}\")"
   ]
  },
  {
   "cell_type": "code",
   "execution_count": 35,
   "id": "de81ef5e",
   "metadata": {},
   "outputs": [
    {
     "data": {
      "image/png": "[encoded data removed]",
      "text/plain": [
       "<Figure size 640x480 with 1 Axes>"
      ]
     },
     "metadata": {},
     "output_type": "display_data"
    }
   ],
   "source": [
    "# Plot N vs F1\n",
    "Ns, roc_aucs = cv_results.keys(), cv_results.values()\n",
    "plt.plot(Ns, roc_aucs, marker='o')\n",
    "plt.title('Number of Features vs F1')\n",
    "plt.xlabel('Number of Features (N)')\n",
    "plt.ylabel('Test F1')\n",
    "plt.grid()\n",
    "plt.show()"
   ]
  },
  {
   "cell_type": "code",
   "execution_count": 36,
   "id": "0e10af91",
   "metadata": {},
   "outputs": [],
   "source": [
    "k_best = SelectKBest(score_func=f_classif, k=best_N)\n",
    "X_train_sel = k_best.fit_transform(X_train_transformed, y_train)\n",
    "X_test_sel = k_best.transform(X_test_transformed)"
   ]
  },
  {
   "cell_type": "code",
   "execution_count": 37,
   "id": "ec9f0c95",
   "metadata": {},
   "outputs": [],
   "source": [
    "# Get the indices of the selected features\n",
    "selected_feature_indices = k_best.get_support(indices=True)\n",
    "\n",
    "# Get the names of all processed features\n",
    "all_feature_names = preprocessor.get_feature_names_out()\n",
    "\n",
    "# Get the names of the selected features\n",
    "selected_feature_names = all_feature_names[selected_feature_indices]\n",
    "\n",
    "# Get the scores of the selected features\n",
    "selected_feature_scores = k_best.scores_[selected_feature_indices]\n",
    "\n",
    "# Create a pandas Series to display feature importance\n",
    "sorted_feature_importance = (\n",
    "    pd.Series(selected_feature_scores, index=selected_feature_names)\n",
    "    .sort_values(ascending=False)\n",
    ")"
   ]
  },
  {
   "cell_type": "code",
   "execution_count": 38,
   "id": "2f44158e",
   "metadata": {},
   "outputs": [
    {
     "data": {
      "image/png": "[encoded data removed]",
      "text/plain": [
       "<Figure size 800x600 with 1 Axes>"
      ]
     },
     "metadata": {},
     "output_type": "display_data"
    }
   ],
   "source": [
    "# Convert the Series to a DataFrame\n",
    "df_importance = sorted_feature_importance.reset_index()\n",
    "df_importance.columns = ['feature', 'importance_score']\n",
    "\n",
    "# Create the plot\n",
    "plt.figure(figsize=(8, 6))\n",
    "\n",
    "# Use x and y to specify horizontal bars, and palette to set the color\n",
    "sns.barplot(\n",
    "    data=df_importance,\n",
    "    x='importance_score',\n",
    "    y='feature',\n",
    "    hue='feature',\n",
    "    palette='viridis',\n",
    "    legend=False\n",
    ")\n",
    "\n",
    "plt.title(\"Top Features by Random Forest Importance\", fontsize=14)\n",
    "plt.xlabel(\"Importance Score\")\n",
    "plt.ylabel(\"Feature\")\n",
    "plt.tight_layout()\n",
    "plt.show()"
   ]
  },
  {
   "cell_type": "code",
   "execution_count": 39,
   "id": "7f36ad87",
   "metadata": {},
   "outputs": [
    {
     "data": {
      "application/vnd.microsoft.datawrangler.viewer.v0+json": {
       "columns": [
        {
         "name": "income",
         "rawType": "int64",
         "type": "integer"
        },
        {
         "name": "count",
         "rawType": "int64",
         "type": "integer"
        }
       ],
       "ref": "669e0bfa-e107-4644-80e0-a24bd22fa98c",
       "rows": [
        [
         "0",
         "18075"
        ],
        [
         "1",
         "5855"
        ]
       ],
       "shape": {
        "columns": 1,
        "rows": 2
       }
      },
      "text/plain": [
       "income\n",
       "0    18075\n",
       "1     5855\n",
       "Name: count, dtype: int64"
      ]
     },
     "execution_count": 39,
     "metadata": {},
     "output_type": "execute_result"
    }
   ],
   "source": [
    "y_train.value_counts()"
   ]
  },
  {
   "cell_type": "code",
   "execution_count": 40,
   "id": "9bdb9124",
   "metadata": {},
   "outputs": [],
   "source": [
    "# Get X_train and X_test with selected features\n",
    "X_train_sel = k_best.transform(X_train_transformed)\n",
    "X_test_sel = k_best.transform(X_test_transformed)"
   ]
  },
  {
   "cell_type": "code",
   "execution_count": 41,
   "id": "a0c4b9d5",
   "metadata": {},
   "outputs": [
    {
     "data": {
      "text/plain": [
       "['artifacts/final_census_data.pkl']"
      ]
     },
     "execution_count": 41,
     "metadata": {},
     "output_type": "execute_result"
    }
   ],
   "source": [
    "import joblib\n",
    "\n",
    "# Save final datasets\n",
    "joblib.dump((X_train_sel, X_test_sel, y_train, y_test), 'artifacts/final_census_data.pkl')"
   ]
  }
 ],
 "metadata": {
  "kernelspec": {
   "display_name": "base",
   "language": "python",
   "name": "python3"
  },
  "language_info": {
   "codemirror_mode": {
    "name": "ipython",
    "version": 3
   },
   "file_extension": ".py",
   "mimetype": "text/x-python",
   "name": "python",
   "nbconvert_exporter": "python",
   "pygments_lexer": "ipython3",
   "version": "3.12.4"
  }
 },
 "nbformat": 4,
 "nbformat_minor": 5
}
